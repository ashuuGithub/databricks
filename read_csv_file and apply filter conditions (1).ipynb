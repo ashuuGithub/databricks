{
 "cells": [
  {
   "cell_type": "code",
   "execution_count": 0,
   "metadata": {
    "application/vnd.databricks.v1+cell": {
     "cellMetadata": {
      "byteLimit": 2048000,
      "rowLimit": 10000
     },
     "inputWidgets": {},
     "nuid": "a2098677-fde7-4dfb-b1f6-6752dfc5f38c",
     "showTitle": false,
     "tableResultSettingsMap": {},
     "title": ""
    }
   },
   "outputs": [],
   "source": [
    "from pyspark.sql import SparkSession\n",
    "from pyspark.sql.functions import col\n",
    "spark = SparkSession.builder.appName('Spark DataFrames').getOrCreate()"
   ]
  },
  {
   "cell_type": "code",
   "execution_count": 0,
   "metadata": {
    "application/vnd.databricks.v1+cell": {
     "cellMetadata": {
      "byteLimit": 2048000,
      "rowLimit": 10000
     },
     "inputWidgets": {},
     "nuid": "5f62d6b6-9e68-40f1-8a6f-2692bf214fdb",
     "showTitle": false,
     "tableResultSettingsMap": {},
     "title": ""
    },
    "jupyter": {
     "outputs_hidden": true
    }
   },
   "outputs": [],
   "source": [
    "df = (spark.read.format(\"csv\")\n",
    "    .option(\"path\",\"/FileStore/pyspark_Test.csv\")\n",
    "    .option(\"header\", True)\n",
    "    .option(\"inferSchema\", True).load())"
   ]
  },
  {
   "cell_type": "code",
   "execution_count": 0,
   "metadata": {
    "application/vnd.databricks.v1+cell": {
     "cellMetadata": {
      "byteLimit": 2048000,
      "rowLimit": 10000
     },
     "inputWidgets": {},
     "nuid": "f5801a2e-d018-4cf4-b97f-678090c2d2ff",
     "showTitle": false,
     "tableResultSettingsMap": {},
     "title": ""
    }
   },
   "outputs": [
    {
     "output_type": "stream",
     "name": "stdout",
     "output_type": "stream",
     "text": [
      "+----+--------+--------------------+---------+---+------+--------------+\n|S No|Emp Code|       EMPLOYEE NAME|      DOB|Age|Gender|Marital Status|\n+----+--------+--------------------+---------+---+------+--------------+\n|   1|B2B00002|         Vijay Patel|10-Mar-91| 33|  Male|    Un-Married|\n|   2|B2B00005|   Vinay Kumar Patel|11-Nov-99| 24|  Male|    Un-Married|\n|   5|B2B00008|         Nisha Patel|21-Jun-00| 24|Female|    Un-Married|\n|   6|B2B00009|       Deepesh Patel|20-Feb-96| 28| Male |    Un-Married|\n|   7|B2B00010|  Satish Kumar Patel|30-Jun-92| 32|  Male|    Un-Married|\n|   8|B2B00011|       Preeti Tiwari|05-Jun-99| 25|Female|    Un-Married|\n|  11|B2B00014|        Piyush Singh|24-Jun-97| 27| Male |    Un-Married|\n|  12|B2B00015|     Pratibha Namdeo|08-Jan-98| 26|Female|    Un-Married|\n|  13|B2B00018|   Shubhanshu Paroha|25-May-98| 26|  Male|    Un-Married|\n|  15|B2B00021| Sandeep Singh Verma|12-Oct-98| 25| Male |    Un-Married|\n|  16|B2B00022|          Shiv Singh|25-Apr-97| 27|  Male|    Un-Married|\n|  17|B2B00023|Sumit Kumar Chaur...|19-Aug-99| 24|  Male|    Un-Married|\n|  18|B2B00024|        Adarsh Patel|26-Jan-03| 21|  Male|    Un-Married|\n|  20|B2B00026|      Rajneesh Patel|12-Jan-98| 26|  Male|    Un-Married|\n|  22|B2B00028|       Sumit Dwivedi|12-Jul-99| 25|  Male|    Un-Married|\n|  23|B2B00029|        Khusbu Patel|02-Feb-99| 25|Female|    Un-Married|\n|  25|B2B00031|    Ashish Kumar Sen|03-May-00| 24| Male |    Un-Married|\n+----+--------+--------------------+---------+---+------+--------------+\n\n"
     ]
    }
   ],
   "source": [
    "df.show()"
   ]
  },
  {
   "cell_type": "markdown",
   "metadata": {
    "application/vnd.databricks.v1+cell": {
     "cellMetadata": {},
     "inputWidgets": {},
     "nuid": "ef09c6fc-5c0a-4da8-b953-82e14b1d0813",
     "showTitle": false,
     "tableResultSettingsMap": {},
     "title": ""
    }
   },
   "source": [
    "Fetching Single & Multiple column"
   ]
  },
  {
   "cell_type": "code",
   "execution_count": 0,
   "metadata": {
    "application/vnd.databricks.v1+cell": {
     "cellMetadata": {
      "byteLimit": 2048000,
      "rowLimit": 10000
     },
     "inputWidgets": {},
     "nuid": "37e93dea-50bb-494e-81d2-bc9d6ad71446",
     "showTitle": false,
     "tableResultSettingsMap": {},
     "title": ""
    }
   },
   "outputs": [
    {
     "output_type": "stream",
     "name": "stdout",
     "output_type": "stream",
     "text": [
      "+--------------------+\n|       EMPLOYEE NAME|\n+--------------------+\n|         Vijay Patel|\n|   Vinay Kumar Patel|\n|         Nisha Patel|\n|       Deepesh Patel|\n|  Satish Kumar Patel|\n|       Preeti Tiwari|\n|        Piyush Singh|\n|     Pratibha Namdeo|\n|   Shubhanshu Paroha|\n| Sandeep Singh Verma|\n|          Shiv Singh|\n|Sumit Kumar Chaur...|\n|        Adarsh Patel|\n|      Rajneesh Patel|\n|       Sumit Dwivedi|\n|        Khusbu Patel|\n|    Ashish Kumar Sen|\n+--------------------+\n\n"
     ]
    }
   ],
   "source": [
    "df.select(\"EMPLOYEE NAME\").show()"
   ]
  },
  {
   "cell_type": "code",
   "execution_count": 0,
   "metadata": {
    "application/vnd.databricks.v1+cell": {
     "cellMetadata": {
      "byteLimit": 2048000,
      "rowLimit": 10000
     },
     "inputWidgets": {},
     "nuid": "473c34b6-fb74-4294-959d-ec070dae822c",
     "showTitle": false,
     "tableResultSettingsMap": {},
     "title": ""
    }
   },
   "outputs": [
    {
     "output_type": "display_data",
     "data": {
      "text/html": [
       "<style scoped>\n",
       "  .table-result-container {\n",
       "    max-height: 300px;\n",
       "    overflow: auto;\n",
       "  }\n",
       "  table, th, td {\n",
       "    border: 1px solid black;\n",
       "    border-collapse: collapse;\n",
       "  }\n",
       "  th, td {\n",
       "    padding: 5px;\n",
       "  }\n",
       "  th {\n",
       "    text-align: left;\n",
       "  }\n",
       "</style><div class='table-result-container'><table class='table-result'><thead style='background-color: white'><tr><th>EMPLOYEE NAME</th><th>Age</th><th>marital status</th></tr></thead><tbody><tr><td>Vijay Patel</td><td>33</td><td>Un-Married</td></tr><tr><td>Vinay Kumar Patel</td><td>24</td><td>Un-Married</td></tr><tr><td>Nisha Patel</td><td>24</td><td>Un-Married</td></tr><tr><td>Deepesh Patel</td><td>28</td><td>Un-Married</td></tr><tr><td>Satish Kumar Patel</td><td>32</td><td>Un-Married</td></tr><tr><td>Preeti Tiwari</td><td>25</td><td>Un-Married</td></tr><tr><td>Piyush Singh</td><td>27</td><td>Un-Married</td></tr><tr><td>Pratibha Namdeo</td><td>26</td><td>Un-Married</td></tr><tr><td>Shubhanshu Paroha</td><td>26</td><td>Un-Married</td></tr><tr><td>Sandeep Singh Verma</td><td>25</td><td>Un-Married</td></tr><tr><td>Shiv Singh</td><td>27</td><td>Un-Married</td></tr><tr><td>Sumit Kumar Chaurasia</td><td>24</td><td>Un-Married</td></tr><tr><td>Adarsh Patel</td><td>21</td><td>Un-Married</td></tr><tr><td>Rajneesh Patel</td><td>26</td><td>Un-Married</td></tr><tr><td>Sumit Dwivedi</td><td>25</td><td>Un-Married</td></tr><tr><td>Khusbu Patel</td><td>25</td><td>Un-Married</td></tr><tr><td>Ashish Kumar Sen</td><td>24</td><td>Un-Married</td></tr></tbody></table></div>"
      ]
     },
     "metadata": {
      "application/vnd.databricks.v1+output": {
       "addedWidgets": {},
       "aggData": [],
       "aggError": "",
       "aggOverflow": false,
       "aggSchema": [],
       "aggSeriesLimitReached": false,
       "aggType": "",
       "arguments": {},
       "columnCustomDisplayInfos": {},
       "data": [
        [
         "Vijay Patel",
         33,
         "Un-Married"
        ],
        [
         "Vinay Kumar Patel",
         24,
         "Un-Married"
        ],
        [
         "Nisha Patel",
         24,
         "Un-Married"
        ],
        [
         "Deepesh Patel",
         28,
         "Un-Married"
        ],
        [
         "Satish Kumar Patel",
         32,
         "Un-Married"
        ],
        [
         "Preeti Tiwari",
         25,
         "Un-Married"
        ],
        [
         "Piyush Singh",
         27,
         "Un-Married"
        ],
        [
         "Pratibha Namdeo",
         26,
         "Un-Married"
        ],
        [
         "Shubhanshu Paroha",
         26,
         "Un-Married"
        ],
        [
         "Sandeep Singh Verma",
         25,
         "Un-Married"
        ],
        [
         "Shiv Singh",
         27,
         "Un-Married"
        ],
        [
         "Sumit Kumar Chaurasia",
         24,
         "Un-Married"
        ],
        [
         "Adarsh Patel",
         21,
         "Un-Married"
        ],
        [
         "Rajneesh Patel",
         26,
         "Un-Married"
        ],
        [
         "Sumit Dwivedi",
         25,
         "Un-Married"
        ],
        [
         "Khusbu Patel",
         25,
         "Un-Married"
        ],
        [
         "Ashish Kumar Sen",
         24,
         "Un-Married"
        ]
       ],
       "datasetInfos": [],
       "dbfsResultPath": null,
       "isJsonSchema": true,
       "metadata": {},
       "overflow": false,
       "plotOptions": {
        "customPlotOptions": {},
        "displayType": "table",
        "pivotAggregation": null,
        "pivotColumns": null,
        "xColumns": null,
        "yColumns": null
       },
       "removedWidgets": [],
       "schema": [
        {
         "metadata": "{}",
         "name": "EMPLOYEE NAME",
         "type": "\"string\""
        },
        {
         "metadata": "{}",
         "name": "Age",
         "type": "\"integer\""
        },
        {
         "metadata": "{}",
         "name": "marital status",
         "type": "\"string\""
        }
       ],
       "type": "table"
      }
     },
     "output_type": "display_data"
    }
   ],
   "source": [
    "df.select(\"EMPLOYEE NAME\", \"Age\",\"marital status\").display()"
   ]
  },
  {
   "cell_type": "markdown",
   "metadata": {
    "application/vnd.databricks.v1+cell": {
     "cellMetadata": {},
     "inputWidgets": {},
     "nuid": "721718df-0c9f-4943-97ae-19f52cd2304d",
     "showTitle": false,
     "tableResultSettingsMap": {},
     "title": ""
    }
   },
   "source": [
    "# Fetch the data by using col function- \n",
    "- for that we need to import the col function in header\n",
    "syntex - \"from pyspark.sql.functions import col\""
   ]
  },
  {
   "cell_type": "code",
   "execution_count": 0,
   "metadata": {
    "application/vnd.databricks.v1+cell": {
     "cellMetadata": {
      "byteLimit": 2048000,
      "rowLimit": 10000
     },
     "inputWidgets": {},
     "nuid": "46130de4-b26e-4ca8-9939-5a38f5b92263",
     "showTitle": false,
     "tableResultSettingsMap": {},
     "title": ""
    }
   },
   "outputs": [
    {
     "output_type": "display_data",
     "data": {
      "text/html": [
       "<style scoped>\n",
       "  .table-result-container {\n",
       "    max-height: 300px;\n",
       "    overflow: auto;\n",
       "  }\n",
       "  table, th, td {\n",
       "    border: 1px solid black;\n",
       "    border-collapse: collapse;\n",
       "  }\n",
       "  th, td {\n",
       "    padding: 5px;\n",
       "  }\n",
       "  th {\n",
       "    text-align: left;\n",
       "  }\n",
       "</style><div class='table-result-container'><table class='table-result'><thead style='background-color: white'><tr><th>EMPLOYEE NAME</th><th>Age</th><th>marital status</th></tr></thead><tbody><tr><td>Vijay Patel</td><td>33</td><td>Un-Married</td></tr><tr><td>Vinay Kumar Patel</td><td>24</td><td>Un-Married</td></tr><tr><td>Nisha Patel</td><td>24</td><td>Un-Married</td></tr><tr><td>Deepesh Patel</td><td>28</td><td>Un-Married</td></tr><tr><td>Satish Kumar Patel</td><td>32</td><td>Un-Married</td></tr><tr><td>Preeti Tiwari</td><td>25</td><td>Un-Married</td></tr><tr><td>Piyush Singh</td><td>27</td><td>Un-Married</td></tr><tr><td>Pratibha Namdeo</td><td>26</td><td>Un-Married</td></tr><tr><td>Shubhanshu Paroha</td><td>26</td><td>Un-Married</td></tr><tr><td>Sandeep Singh Verma</td><td>25</td><td>Un-Married</td></tr><tr><td>Shiv Singh</td><td>27</td><td>Un-Married</td></tr><tr><td>Sumit Kumar Chaurasia</td><td>24</td><td>Un-Married</td></tr><tr><td>Adarsh Patel</td><td>21</td><td>Un-Married</td></tr><tr><td>Rajneesh Patel</td><td>26</td><td>Un-Married</td></tr><tr><td>Sumit Dwivedi</td><td>25</td><td>Un-Married</td></tr><tr><td>Khusbu Patel</td><td>25</td><td>Un-Married</td></tr><tr><td>Ashish Kumar Sen</td><td>24</td><td>Un-Married</td></tr></tbody></table></div>"
      ]
     },
     "metadata": {
      "application/vnd.databricks.v1+output": {
       "addedWidgets": {},
       "aggData": [],
       "aggError": "",
       "aggOverflow": false,
       "aggSchema": [],
       "aggSeriesLimitReached": false,
       "aggType": "",
       "arguments": {},
       "columnCustomDisplayInfos": {},
       "data": [
        [
         "Vijay Patel",
         33,
         "Un-Married"
        ],
        [
         "Vinay Kumar Patel",
         24,
         "Un-Married"
        ],
        [
         "Nisha Patel",
         24,
         "Un-Married"
        ],
        [
         "Deepesh Patel",
         28,
         "Un-Married"
        ],
        [
         "Satish Kumar Patel",
         32,
         "Un-Married"
        ],
        [
         "Preeti Tiwari",
         25,
         "Un-Married"
        ],
        [
         "Piyush Singh",
         27,
         "Un-Married"
        ],
        [
         "Pratibha Namdeo",
         26,
         "Un-Married"
        ],
        [
         "Shubhanshu Paroha",
         26,
         "Un-Married"
        ],
        [
         "Sandeep Singh Verma",
         25,
         "Un-Married"
        ],
        [
         "Shiv Singh",
         27,
         "Un-Married"
        ],
        [
         "Sumit Kumar Chaurasia",
         24,
         "Un-Married"
        ],
        [
         "Adarsh Patel",
         21,
         "Un-Married"
        ],
        [
         "Rajneesh Patel",
         26,
         "Un-Married"
        ],
        [
         "Sumit Dwivedi",
         25,
         "Un-Married"
        ],
        [
         "Khusbu Patel",
         25,
         "Un-Married"
        ],
        [
         "Ashish Kumar Sen",
         24,
         "Un-Married"
        ]
       ],
       "datasetInfos": [],
       "dbfsResultPath": null,
       "isJsonSchema": true,
       "metadata": {},
       "overflow": false,
       "plotOptions": {
        "customPlotOptions": {},
        "displayType": "table",
        "pivotAggregation": null,
        "pivotColumns": null,
        "xColumns": null,
        "yColumns": null
       },
       "removedWidgets": [],
       "schema": [
        {
         "metadata": "{}",
         "name": "EMPLOYEE NAME",
         "type": "\"string\""
        },
        {
         "metadata": "{}",
         "name": "Age",
         "type": "\"integer\""
        },
        {
         "metadata": "{}",
         "name": "marital status",
         "type": "\"string\""
        }
       ],
       "type": "table"
      }
     },
     "output_type": "display_data"
    }
   ],
   "source": [
    "df.select(col(\"EMPLOYEE NAME\"), col(\"Age\"), col(\"marital status\")).display()"
   ]
  },
  {
   "cell_type": "code",
   "execution_count": 0,
   "metadata": {
    "application/vnd.databricks.v1+cell": {
     "cellMetadata": {},
     "inputWidgets": {},
     "nuid": "b5d539bc-9e1b-47fc-9c09-3a3f82fa8f4d",
     "showTitle": false,
     "tableResultSettingsMap": {},
     "title": ""
    }
   },
   "outputs": [],
   "source": []
  },
  {
   "cell_type": "code",
   "execution_count": 0,
   "metadata": {
    "application/vnd.databricks.v1+cell": {
     "cellMetadata": {},
     "inputWidgets": {},
     "nuid": "77327e7d-cae5-4aae-a16b-fe7ba9bdff8f",
     "showTitle": false,
     "tableResultSettingsMap": {},
     "title": ""
    }
   },
   "outputs": [],
   "source": []
  }
 ],
 "metadata": {
  "application/vnd.databricks.v1+notebook": {
   "computePreferences": null,
   "dashboards": [],
   "environmentMetadata": {
    "base_environment": "",
    "environment_version": "1"
   },
   "language": "python",
   "notebookMetadata": {
    "mostRecentlyExecutedCommandWithImplicitDF": {
     "commandId": 3708167347901365,
     "dataframes": [
      "_sqldf"
     ]
    },
    "pythonIndentUnit": 4
   },
   "notebookName": "read_csv_file and apply filter conditions",
   "widgets": {}
  },
  "language_info": {
   "name": "python"
  }
 },
 "nbformat": 4,
 "nbformat_minor": 0
}