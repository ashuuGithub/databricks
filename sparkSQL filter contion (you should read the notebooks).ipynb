{
 "cells": [
  {
   "cell_type": "markdown",
   "metadata": {
    "application/vnd.databricks.v1+cell": {
     "cellMetadata": {},
     "inputWidgets": {},
     "nuid": "478f1383-8552-4308-8c61-5bd3b6d88442",
     "showTitle": false,
     "tableResultSettingsMap": {},
     "title": ""
    }
   },
   "source": [
    "B2B_emp table is a base table where we are applying the filter conditions (**same as it is SQL query**)"
   ]
  },
  {
   "cell_type": "code",
   "execution_count": 0,
   "metadata": {
    "application/vnd.databricks.v1+cell": {
     "cellMetadata": {
      "byteLimit": 2048000,
      "implicitDf": true,
      "rowLimit": 10000
     },
     "inputWidgets": {},
     "nuid": "531db740-4448-4c56-a9ca-f8a678905da6",
     "showTitle": false,
     "tableResultSettingsMap": {},
     "title": ""
    }
   },
   "outputs": [
    {
     "output_type": "display_data",
     "data": {
      "text/html": [
       "<style scoped>\n",
       "  .table-result-container {\n",
       "    max-height: 300px;\n",
       "    overflow: auto;\n",
       "  }\n",
       "  table, th, td {\n",
       "    border: 1px solid black;\n",
       "    border-collapse: collapse;\n",
       "  }\n",
       "  th, td {\n",
       "    padding: 5px;\n",
       "  }\n",
       "  th {\n",
       "    text-align: left;\n",
       "  }\n",
       "</style><div class='table-result-container'><table class='table-result'><thead style='background-color: white'><tr><th>S No</th><th>Emp_Code</th><th>EMPLOYEE_NAME</th><th>DOB</th><th>Age</th><th>Gender</th><th>Marital_Status</th></tr></thead><tbody><tr><td>1</td><td>B2B00002</td><td>Vijay Patel</td><td>10-Mar-91</td><td>33</td><td>Male</td><td>Un-Married</td></tr><tr><td>2</td><td>B2B00005</td><td>Vinay Kumar Patel</td><td>11-Nov-99</td><td>24</td><td>Male</td><td>Un-Married</td></tr><tr><td>5</td><td>B2B00008</td><td>Nisha Patel</td><td>21-Jun-00</td><td>24</td><td>Female</td><td>Un-Married</td></tr><tr><td>6</td><td>B2B00009</td><td>Deepesh Patel</td><td>20-Feb-96</td><td>28</td><td>Male </td><td>Un-Married</td></tr><tr><td>7</td><td>B2B00010</td><td>Satish Kumar Patel</td><td>30-Jun-92</td><td>32</td><td>Male</td><td>Un-Married</td></tr><tr><td>8</td><td>B2B00011</td><td>Preeti Tiwari</td><td>05-Jun-99</td><td>25</td><td>Female</td><td>Un-Married</td></tr><tr><td>11</td><td>B2B00014</td><td>Piyush Singh</td><td>24-Jun-97</td><td>27</td><td>Male </td><td>Un-Married</td></tr><tr><td>12</td><td>B2B00015</td><td>Pratibha Namdeo</td><td>08-Jan-98</td><td>26</td><td>Female</td><td>Un-Married</td></tr><tr><td>13</td><td>B2B00018</td><td>Shubhanshu Paroha</td><td>25-May-98</td><td>26</td><td>Male</td><td>Un-Married</td></tr><tr><td>15</td><td>B2B00021</td><td>Sandeep Singh Verma</td><td>12-Oct-98</td><td>25</td><td>Male </td><td>Un-Married</td></tr><tr><td>16</td><td>B2B00022</td><td>Shiv Singh</td><td>25-Apr-97</td><td>27</td><td>Male</td><td>Un-Married</td></tr><tr><td>17</td><td>B2B00023</td><td>Sumit Kumar Chaurasia</td><td>19-Aug-99</td><td>24</td><td>Male</td><td>Un-Married</td></tr><tr><td>18</td><td>B2B00024</td><td>Adarsh Patel</td><td>26-Jan-03</td><td>21</td><td>Male</td><td>Un-Married</td></tr><tr><td>20</td><td>B2B00026</td><td>Rajneesh Patel</td><td>12-Jan-98</td><td>26</td><td>Male</td><td>Un-Married</td></tr><tr><td>22</td><td>B2B00028</td><td>Sumit Dwivedi</td><td>12-Jul-99</td><td>25</td><td>Male</td><td>Un-Married</td></tr><tr><td>23</td><td>B2B00029</td><td>Khusbu Patel</td><td>02-Feb-99</td><td>25</td><td>Female</td><td>Un-Married</td></tr><tr><td>25</td><td>B2B00031</td><td>Ashish Kumar Sen</td><td>03-May-00</td><td>24</td><td>Male </td><td>Un-Married</td></tr><tr><td>26</td><td>B2B00032</td><td>Golu vishwakrma</td><td>01-01-1995</td><td>30</td><td>male</td><td>married</td></tr><tr><td>27</td><td>B2B00033</td><td>Vipul shukla</td><td>30-10-1999</td><td>25</td><td>Male</td><td>Un-Married</td></tr></tbody></table></div>"
      ]
     },
     "metadata": {
      "application/vnd.databricks.v1+output": {
       "addedWidgets": {},
       "aggData": [],
       "aggError": "",
       "aggOverflow": false,
       "aggSchema": [],
       "aggSeriesLimitReached": false,
       "aggType": "",
       "arguments": {},
       "columnCustomDisplayInfos": {},
       "data": [
        [
         1,
         "B2B00002",
         "Vijay Patel",
         "10-Mar-91",
         33,
         "Male",
         "Un-Married"
        ],
        [
         2,
         "B2B00005",
         "Vinay Kumar Patel",
         "11-Nov-99",
         24,
         "Male",
         "Un-Married"
        ],
        [
         5,
         "B2B00008",
         "Nisha Patel",
         "21-Jun-00",
         24,
         "Female",
         "Un-Married"
        ],
        [
         6,
         "B2B00009",
         "Deepesh Patel",
         "20-Feb-96",
         28,
         "Male ",
         "Un-Married"
        ],
        [
         7,
         "B2B00010",
         "Satish Kumar Patel",
         "30-Jun-92",
         32,
         "Male",
         "Un-Married"
        ],
        [
         8,
         "B2B00011",
         "Preeti Tiwari",
         "05-Jun-99",
         25,
         "Female",
         "Un-Married"
        ],
        [
         11,
         "B2B00014",
         "Piyush Singh",
         "24-Jun-97",
         27,
         "Male ",
         "Un-Married"
        ],
        [
         12,
         "B2B00015",
         "Pratibha Namdeo",
         "08-Jan-98",
         26,
         "Female",
         "Un-Married"
        ],
        [
         13,
         "B2B00018",
         "Shubhanshu Paroha",
         "25-May-98",
         26,
         "Male",
         "Un-Married"
        ],
        [
         15,
         "B2B00021",
         "Sandeep Singh Verma",
         "12-Oct-98",
         25,
         "Male ",
         "Un-Married"
        ],
        [
         16,
         "B2B00022",
         "Shiv Singh",
         "25-Apr-97",
         27,
         "Male",
         "Un-Married"
        ],
        [
         17,
         "B2B00023",
         "Sumit Kumar Chaurasia",
         "19-Aug-99",
         24,
         "Male",
         "Un-Married"
        ],
        [
         18,
         "B2B00024",
         "Adarsh Patel",
         "26-Jan-03",
         21,
         "Male",
         "Un-Married"
        ],
        [
         20,
         "B2B00026",
         "Rajneesh Patel",
         "12-Jan-98",
         26,
         "Male",
         "Un-Married"
        ],
        [
         22,
         "B2B00028",
         "Sumit Dwivedi",
         "12-Jul-99",
         25,
         "Male",
         "Un-Married"
        ],
        [
         23,
         "B2B00029",
         "Khusbu Patel",
         "02-Feb-99",
         25,
         "Female",
         "Un-Married"
        ],
        [
         25,
         "B2B00031",
         "Ashish Kumar Sen",
         "03-May-00",
         24,
         "Male ",
         "Un-Married"
        ],
        [
         26,
         "B2B00032",
         "Golu vishwakrma",
         "01-01-1995",
         30,
         "male",
         "married"
        ],
        [
         27,
         "B2B00033",
         "Vipul shukla",
         "30-10-1999",
         25,
         "Male",
         "Un-Married"
        ]
       ],
       "datasetInfos": [
        {
         "name": "_sqldf",
         "schema": {
          "fields": [
           {
            "metadata": {},
            "name": "S No",
            "nullable": true,
            "type": "long"
           },
           {
            "metadata": {},
            "name": "Emp_Code",
            "nullable": true,
            "type": "string"
           },
           {
            "metadata": {},
            "name": "EMPLOYEE_NAME",
            "nullable": true,
            "type": "string"
           },
           {
            "metadata": {},
            "name": "DOB",
            "nullable": true,
            "type": "string"
           },
           {
            "metadata": {},
            "name": "Age",
            "nullable": true,
            "type": "long"
           },
           {
            "metadata": {},
            "name": "Gender",
            "nullable": true,
            "type": "string"
           },
           {
            "metadata": {},
            "name": "Marital_Status",
            "nullable": true,
            "type": "string"
           }
          ],
          "type": "struct"
         },
         "tableIdentifier": null,
         "typeStr": "pyspark.sql.connect.dataframe.DataFrame"
        }
       ],
       "dbfsResultPath": null,
       "isJsonSchema": true,
       "metadata": {
        "dataframeName": "_sqldf",
        "executionCount": 1
       },
       "overflow": false,
       "plotOptions": {
        "customPlotOptions": {},
        "displayType": "table",
        "pivotAggregation": null,
        "pivotColumns": null,
        "xColumns": null,
        "yColumns": null
       },
       "removedWidgets": [],
       "schema": [
        {
         "metadata": "{}",
         "name": "S No",
         "type": "\"long\""
        },
        {
         "metadata": "{}",
         "name": "Emp_Code",
         "type": "\"string\""
        },
        {
         "metadata": "{}",
         "name": "EMPLOYEE_NAME",
         "type": "\"string\""
        },
        {
         "metadata": "{}",
         "name": "DOB",
         "type": "\"string\""
        },
        {
         "metadata": "{}",
         "name": "Age",
         "type": "\"long\""
        },
        {
         "metadata": "{}",
         "name": "Gender",
         "type": "\"string\""
        },
        {
         "metadata": "{}",
         "name": "Marital_Status",
         "type": "\"string\""
        }
       ],
       "type": "table"
      }
     },
     "output_type": "display_data"
    }
   ],
   "source": [
    "%sql\n",
    "SELECT * FROM b2b_emp"
   ]
  },
  {
   "cell_type": "markdown",
   "metadata": {
    "application/vnd.databricks.v1+cell": {
     "cellMetadata": {},
     "inputWidgets": {},
     "nuid": "648d473d-eb7a-4cd7-8b6e-23d06eb392f2",
     "showTitle": false,
     "tableResultSettingsMap": {},
     "title": ""
    }
   },
   "source": [
    "### where Age > 30"
   ]
  },
  {
   "cell_type": "code",
   "execution_count": 0,
   "metadata": {
    "application/vnd.databricks.v1+cell": {
     "cellMetadata": {
      "byteLimit": 2048000,
      "implicitDf": true,
      "rowLimit": 10000
     },
     "inputWidgets": {},
     "nuid": "ada739be-c0e9-433c-948a-c96cd812494e",
     "showTitle": false,
     "tableResultSettingsMap": {},
     "title": ""
    }
   },
   "outputs": [
    {
     "output_type": "display_data",
     "data": {
      "text/html": [
       "<style scoped>\n",
       "  .table-result-container {\n",
       "    max-height: 300px;\n",
       "    overflow: auto;\n",
       "  }\n",
       "  table, th, td {\n",
       "    border: 1px solid black;\n",
       "    border-collapse: collapse;\n",
       "  }\n",
       "  th, td {\n",
       "    padding: 5px;\n",
       "  }\n",
       "  th {\n",
       "    text-align: left;\n",
       "  }\n",
       "</style><div class='table-result-container'><table class='table-result'><thead style='background-color: white'><tr><th>S No</th><th>Emp_Code</th><th>EMPLOYEE_NAME</th><th>DOB</th><th>Age</th><th>Gender</th><th>Marital_Status</th></tr></thead><tbody><tr><td>1</td><td>B2B00002</td><td>Vijay Patel</td><td>10-Mar-91</td><td>33</td><td>Male</td><td>Un-Married</td></tr><tr><td>7</td><td>B2B00010</td><td>Satish Kumar Patel</td><td>30-Jun-92</td><td>32</td><td>Male</td><td>Un-Married</td></tr></tbody></table></div>"
      ]
     },
     "metadata": {
      "application/vnd.databricks.v1+output": {
       "addedWidgets": {},
       "aggData": [],
       "aggError": "",
       "aggOverflow": false,
       "aggSchema": [],
       "aggSeriesLimitReached": false,
       "aggType": "",
       "arguments": {},
       "columnCustomDisplayInfos": {},
       "data": [
        [
         1,
         "B2B00002",
         "Vijay Patel",
         "10-Mar-91",
         33,
         "Male",
         "Un-Married"
        ],
        [
         7,
         "B2B00010",
         "Satish Kumar Patel",
         "30-Jun-92",
         32,
         "Male",
         "Un-Married"
        ]
       ],
       "datasetInfos": [
        {
         "name": "_sqldf",
         "schema": {
          "fields": [
           {
            "metadata": {},
            "name": "S No",
            "nullable": true,
            "type": "long"
           },
           {
            "metadata": {},
            "name": "Emp_Code",
            "nullable": true,
            "type": "string"
           },
           {
            "metadata": {},
            "name": "EMPLOYEE_NAME",
            "nullable": true,
            "type": "string"
           },
           {
            "metadata": {},
            "name": "DOB",
            "nullable": true,
            "type": "string"
           },
           {
            "metadata": {},
            "name": "Age",
            "nullable": true,
            "type": "long"
           },
           {
            "metadata": {},
            "name": "Gender",
            "nullable": true,
            "type": "string"
           },
           {
            "metadata": {},
            "name": "Marital_Status",
            "nullable": true,
            "type": "string"
           }
          ],
          "type": "struct"
         },
         "tableIdentifier": null,
         "typeStr": "pyspark.sql.connect.dataframe.DataFrame"
        }
       ],
       "dbfsResultPath": null,
       "isJsonSchema": true,
       "metadata": {
        "dataframeName": "_sqldf",
        "executionCount": 3
       },
       "overflow": false,
       "plotOptions": {
        "customPlotOptions": {},
        "displayType": "table",
        "pivotAggregation": null,
        "pivotColumns": null,
        "xColumns": null,
        "yColumns": null
       },
       "removedWidgets": [],
       "schema": [
        {
         "metadata": "{}",
         "name": "S No",
         "type": "\"long\""
        },
        {
         "metadata": "{}",
         "name": "Emp_Code",
         "type": "\"string\""
        },
        {
         "metadata": "{}",
         "name": "EMPLOYEE_NAME",
         "type": "\"string\""
        },
        {
         "metadata": "{}",
         "name": "DOB",
         "type": "\"string\""
        },
        {
         "metadata": "{}",
         "name": "Age",
         "type": "\"long\""
        },
        {
         "metadata": "{}",
         "name": "Gender",
         "type": "\"string\""
        },
        {
         "metadata": "{}",
         "name": "Marital_Status",
         "type": "\"string\""
        }
       ],
       "type": "table"
      }
     },
     "output_type": "display_data"
    }
   ],
   "source": [
    "%sql\n",
    "SELECT * FROM b2b_dev.default.b2b_emp where Age > 30"
   ]
  },
  {
   "cell_type": "markdown",
   "metadata": {
    "application/vnd.databricks.v1+cell": {
     "cellMetadata": {},
     "inputWidgets": {},
     "nuid": "e7c02e97-9a9a-45ac-8ec8-bb5bc85cd7f9",
     "showTitle": false,
     "tableResultSettingsMap": {},
     "title": ""
    }
   },
   "source": [
    "### where Age in (30,25,24,28)"
   ]
  },
  {
   "cell_type": "code",
   "execution_count": 0,
   "metadata": {
    "application/vnd.databricks.v1+cell": {
     "cellMetadata": {
      "byteLimit": 2048000,
      "rowLimit": 10000
     },
     "inputWidgets": {},
     "nuid": "bf9b90c8-c503-434e-b1be-0246254f8e2a",
     "showTitle": false,
     "tableResultSettingsMap": {},
     "title": ""
    }
   },
   "outputs": [
    {
     "output_type": "display_data",
     "data": {
      "text/html": [
       "<style scoped>\n",
       "  .table-result-container {\n",
       "    max-height: 300px;\n",
       "    overflow: auto;\n",
       "  }\n",
       "  table, th, td {\n",
       "    border: 1px solid black;\n",
       "    border-collapse: collapse;\n",
       "  }\n",
       "  th, td {\n",
       "    padding: 5px;\n",
       "  }\n",
       "  th {\n",
       "    text-align: left;\n",
       "  }\n",
       "</style><div class='table-result-container'><table class='table-result'><thead style='background-color: white'><tr><th>S No</th><th>Emp_Code</th><th>EMPLOYEE_NAME</th><th>DOB</th><th>Age</th><th>Gender</th><th>Marital_Status</th></tr></thead><tbody><tr><td>2</td><td>B2B00005</td><td>Vinay Kumar Patel</td><td>11-Nov-99</td><td>24</td><td>Male</td><td>Un-Married</td></tr><tr><td>5</td><td>B2B00008</td><td>Nisha Patel</td><td>21-Jun-00</td><td>24</td><td>Female</td><td>Un-Married</td></tr><tr><td>6</td><td>B2B00009</td><td>Deepesh Patel</td><td>20-Feb-96</td><td>28</td><td>Male </td><td>Un-Married</td></tr><tr><td>8</td><td>B2B00011</td><td>Preeti Tiwari</td><td>05-Jun-99</td><td>25</td><td>Female</td><td>Un-Married</td></tr><tr><td>15</td><td>B2B00021</td><td>Sandeep Singh Verma</td><td>12-Oct-98</td><td>25</td><td>Male </td><td>Un-Married</td></tr><tr><td>17</td><td>B2B00023</td><td>Sumit Kumar Chaurasia</td><td>19-Aug-99</td><td>24</td><td>Male</td><td>Un-Married</td></tr><tr><td>22</td><td>B2B00028</td><td>Sumit Dwivedi</td><td>12-Jul-99</td><td>25</td><td>Male</td><td>Un-Married</td></tr><tr><td>23</td><td>B2B00029</td><td>Khusbu Patel</td><td>02-Feb-99</td><td>25</td><td>Female</td><td>Un-Married</td></tr><tr><td>25</td><td>B2B00031</td><td>Ashish Kumar Sen</td><td>03-May-00</td><td>24</td><td>Male </td><td>Un-Married</td></tr><tr><td>26</td><td>B2B00032</td><td>Golu vishwakrma</td><td>01-01-1995</td><td>30</td><td>male</td><td>married</td></tr><tr><td>27</td><td>B2B00033</td><td>Vipul shukla</td><td>30-10-1999</td><td>25</td><td>Male</td><td>Un-Married</td></tr></tbody></table></div>"
      ]
     },
     "metadata": {
      "application/vnd.databricks.v1+output": {
       "addedWidgets": {},
       "aggData": [],
       "aggError": "",
       "aggOverflow": false,
       "aggSchema": [],
       "aggSeriesLimitReached": false,
       "aggType": "",
       "arguments": {},
       "columnCustomDisplayInfos": {},
       "data": [
        [
         2,
         "B2B00005",
         "Vinay Kumar Patel",
         "11-Nov-99",
         24,
         "Male",
         "Un-Married"
        ],
        [
         5,
         "B2B00008",
         "Nisha Patel",
         "21-Jun-00",
         24,
         "Female",
         "Un-Married"
        ],
        [
         6,
         "B2B00009",
         "Deepesh Patel",
         "20-Feb-96",
         28,
         "Male ",
         "Un-Married"
        ],
        [
         8,
         "B2B00011",
         "Preeti Tiwari",
         "05-Jun-99",
         25,
         "Female",
         "Un-Married"
        ],
        [
         15,
         "B2B00021",
         "Sandeep Singh Verma",
         "12-Oct-98",
         25,
         "Male ",
         "Un-Married"
        ],
        [
         17,
         "B2B00023",
         "Sumit Kumar Chaurasia",
         "19-Aug-99",
         24,
         "Male",
         "Un-Married"
        ],
        [
         22,
         "B2B00028",
         "Sumit Dwivedi",
         "12-Jul-99",
         25,
         "Male",
         "Un-Married"
        ],
        [
         23,
         "B2B00029",
         "Khusbu Patel",
         "02-Feb-99",
         25,
         "Female",
         "Un-Married"
        ],
        [
         25,
         "B2B00031",
         "Ashish Kumar Sen",
         "03-May-00",
         24,
         "Male ",
         "Un-Married"
        ],
        [
         26,
         "B2B00032",
         "Golu vishwakrma",
         "01-01-1995",
         30,
         "male",
         "married"
        ],
        [
         27,
         "B2B00033",
         "Vipul shukla",
         "30-10-1999",
         25,
         "Male",
         "Un-Married"
        ]
       ],
       "datasetInfos": [
        {
         "name": "_sqldf",
         "schema": {
          "fields": [
           {
            "metadata": {},
            "name": "S No",
            "nullable": true,
            "type": "long"
           },
           {
            "metadata": {},
            "name": "Emp_Code",
            "nullable": true,
            "type": "string"
           },
           {
            "metadata": {},
            "name": "EMPLOYEE_NAME",
            "nullable": true,
            "type": "string"
           },
           {
            "metadata": {},
            "name": "DOB",
            "nullable": true,
            "type": "string"
           },
           {
            "metadata": {},
            "name": "Age",
            "nullable": true,
            "type": "long"
           },
           {
            "metadata": {},
            "name": "Gender",
            "nullable": true,
            "type": "string"
           },
           {
            "metadata": {},
            "name": "Marital_Status",
            "nullable": true,
            "type": "string"
           }
          ],
          "type": "struct"
         },
         "tableIdentifier": null,
         "typeStr": "pyspark.sql.connect.dataframe.DataFrame"
        }
       ],
       "dbfsResultPath": null,
       "isJsonSchema": true,
       "metadata": {
        "dataframeName": "_sqldf",
        "executionCount": 1
       },
       "overflow": false,
       "plotOptions": {
        "customPlotOptions": {},
        "displayType": "table",
        "pivotAggregation": null,
        "pivotColumns": null,
        "xColumns": null,
        "yColumns": null
       },
       "removedWidgets": [],
       "schema": [
        {
         "metadata": "{}",
         "name": "S No",
         "type": "\"long\""
        },
        {
         "metadata": "{}",
         "name": "Emp_Code",
         "type": "\"string\""
        },
        {
         "metadata": "{}",
         "name": "EMPLOYEE_NAME",
         "type": "\"string\""
        },
        {
         "metadata": "{}",
         "name": "DOB",
         "type": "\"string\""
        },
        {
         "metadata": "{}",
         "name": "Age",
         "type": "\"long\""
        },
        {
         "metadata": "{}",
         "name": "Gender",
         "type": "\"string\""
        },
        {
         "metadata": "{}",
         "name": "Marital_Status",
         "type": "\"string\""
        }
       ],
       "type": "table"
      }
     },
     "output_type": "display_data"
    }
   ],
   "source": [
    "%sql\n",
    "SELECT * FROM b2b_dev.default.b2b_emp where Age in (30,25,24,28)"
   ]
  },
  {
   "cell_type": "markdown",
   "metadata": {
    "application/vnd.databricks.v1+cell": {
     "cellMetadata": {},
     "inputWidgets": {},
     "nuid": "972a2463-3384-470b-9881-f71d1a226f3a",
     "showTitle": false,
     "tableResultSettingsMap": {},
     "title": ""
    }
   },
   "source": [
    "### where Age BETWEEN 25 and 27"
   ]
  },
  {
   "cell_type": "code",
   "execution_count": 0,
   "metadata": {
    "application/vnd.databricks.v1+cell": {
     "cellMetadata": {
      "byteLimit": 2048000,
      "rowLimit": 10000
     },
     "inputWidgets": {},
     "nuid": "c2ec582b-216a-4652-bca6-6deaa8906071",
     "showTitle": false,
     "tableResultSettingsMap": {},
     "title": ""
    }
   },
   "outputs": [
    {
     "output_type": "display_data",
     "data": {
      "text/html": [
       "<style scoped>\n",
       "  .table-result-container {\n",
       "    max-height: 300px;\n",
       "    overflow: auto;\n",
       "  }\n",
       "  table, th, td {\n",
       "    border: 1px solid black;\n",
       "    border-collapse: collapse;\n",
       "  }\n",
       "  th, td {\n",
       "    padding: 5px;\n",
       "  }\n",
       "  th {\n",
       "    text-align: left;\n",
       "  }\n",
       "</style><div class='table-result-container'><table class='table-result'><thead style='background-color: white'><tr><th>S No</th><th>Emp_Code</th><th>EMPLOYEE_NAME</th><th>DOB</th><th>Age</th><th>Gender</th><th>Marital_Status</th></tr></thead><tbody><tr><td>8</td><td>B2B00011</td><td>Preeti Tiwari</td><td>05-Jun-99</td><td>25</td><td>Female</td><td>Un-Married</td></tr><tr><td>11</td><td>B2B00014</td><td>Piyush Singh</td><td>24-Jun-97</td><td>27</td><td>Male </td><td>Un-Married</td></tr><tr><td>12</td><td>B2B00015</td><td>Pratibha Namdeo</td><td>08-Jan-98</td><td>26</td><td>Female</td><td>Un-Married</td></tr><tr><td>13</td><td>B2B00018</td><td>Shubhanshu Paroha</td><td>25-May-98</td><td>26</td><td>Male</td><td>Un-Married</td></tr><tr><td>15</td><td>B2B00021</td><td>Sandeep Singh Verma</td><td>12-Oct-98</td><td>25</td><td>Male </td><td>Un-Married</td></tr><tr><td>16</td><td>B2B00022</td><td>Shiv Singh</td><td>25-Apr-97</td><td>27</td><td>Male</td><td>Un-Married</td></tr><tr><td>20</td><td>B2B00026</td><td>Rajneesh Patel</td><td>12-Jan-98</td><td>26</td><td>Male</td><td>Un-Married</td></tr><tr><td>22</td><td>B2B00028</td><td>Sumit Dwivedi</td><td>12-Jul-99</td><td>25</td><td>Male</td><td>Un-Married</td></tr><tr><td>23</td><td>B2B00029</td><td>Khusbu Patel</td><td>02-Feb-99</td><td>25</td><td>Female</td><td>Un-Married</td></tr><tr><td>27</td><td>B2B00033</td><td>Vipul shukla</td><td>30-10-1999</td><td>25</td><td>Male</td><td>Un-Married</td></tr></tbody></table></div>"
      ]
     },
     "metadata": {
      "application/vnd.databricks.v1+output": {
       "addedWidgets": {},
       "aggData": [],
       "aggError": "",
       "aggOverflow": false,
       "aggSchema": [],
       "aggSeriesLimitReached": false,
       "aggType": "",
       "arguments": {},
       "columnCustomDisplayInfos": {},
       "data": [
        [
         8,
         "B2B00011",
         "Preeti Tiwari",
         "05-Jun-99",
         25,
         "Female",
         "Un-Married"
        ],
        [
         11,
         "B2B00014",
         "Piyush Singh",
         "24-Jun-97",
         27,
         "Male ",
         "Un-Married"
        ],
        [
         12,
         "B2B00015",
         "Pratibha Namdeo",
         "08-Jan-98",
         26,
         "Female",
         "Un-Married"
        ],
        [
         13,
         "B2B00018",
         "Shubhanshu Paroha",
         "25-May-98",
         26,
         "Male",
         "Un-Married"
        ],
        [
         15,
         "B2B00021",
         "Sandeep Singh Verma",
         "12-Oct-98",
         25,
         "Male ",
         "Un-Married"
        ],
        [
         16,
         "B2B00022",
         "Shiv Singh",
         "25-Apr-97",
         27,
         "Male",
         "Un-Married"
        ],
        [
         20,
         "B2B00026",
         "Rajneesh Patel",
         "12-Jan-98",
         26,
         "Male",
         "Un-Married"
        ],
        [
         22,
         "B2B00028",
         "Sumit Dwivedi",
         "12-Jul-99",
         25,
         "Male",
         "Un-Married"
        ],
        [
         23,
         "B2B00029",
         "Khusbu Patel",
         "02-Feb-99",
         25,
         "Female",
         "Un-Married"
        ],
        [
         27,
         "B2B00033",
         "Vipul shukla",
         "30-10-1999",
         25,
         "Male",
         "Un-Married"
        ]
       ],
       "datasetInfos": [
        {
         "name": "_sqldf",
         "schema": {
          "fields": [
           {
            "metadata": {},
            "name": "S No",
            "nullable": true,
            "type": "long"
           },
           {
            "metadata": {},
            "name": "Emp_Code",
            "nullable": true,
            "type": "string"
           },
           {
            "metadata": {},
            "name": "EMPLOYEE_NAME",
            "nullable": true,
            "type": "string"
           },
           {
            "metadata": {},
            "name": "DOB",
            "nullable": true,
            "type": "string"
           },
           {
            "metadata": {},
            "name": "Age",
            "nullable": true,
            "type": "long"
           },
           {
            "metadata": {},
            "name": "Gender",
            "nullable": true,
            "type": "string"
           },
           {
            "metadata": {},
            "name": "Marital_Status",
            "nullable": true,
            "type": "string"
           }
          ],
          "type": "struct"
         },
         "tableIdentifier": null,
         "typeStr": "pyspark.sql.connect.dataframe.DataFrame"
        }
       ],
       "dbfsResultPath": null,
       "isJsonSchema": true,
       "metadata": {
        "dataframeName": "_sqldf",
        "executionCount": 3
       },
       "overflow": false,
       "plotOptions": {
        "customPlotOptions": {},
        "displayType": "table",
        "pivotAggregation": null,
        "pivotColumns": null,
        "xColumns": null,
        "yColumns": null
       },
       "removedWidgets": [],
       "schema": [
        {
         "metadata": "{}",
         "name": "S No",
         "type": "\"long\""
        },
        {
         "metadata": "{}",
         "name": "Emp_Code",
         "type": "\"string\""
        },
        {
         "metadata": "{}",
         "name": "EMPLOYEE_NAME",
         "type": "\"string\""
        },
        {
         "metadata": "{}",
         "name": "DOB",
         "type": "\"string\""
        },
        {
         "metadata": "{}",
         "name": "Age",
         "type": "\"long\""
        },
        {
         "metadata": "{}",
         "name": "Gender",
         "type": "\"string\""
        },
        {
         "metadata": "{}",
         "name": "Marital_Status",
         "type": "\"string\""
        }
       ],
       "type": "table"
      }
     },
     "output_type": "display_data"
    }
   ],
   "source": [
    "%sql\n",
    "SELECT * FROM b2b_dev.default.b2b_emp where Age BETWEEN 25 and 27"
   ]
  },
  {
   "cell_type": "markdown",
   "metadata": {
    "application/vnd.databricks.v1+cell": {
     "cellMetadata": {},
     "inputWidgets": {},
     "nuid": "805234d7-24fd-4b7c-ac04-5d0cf076f5ff",
     "showTitle": false,
     "tableResultSettingsMap": {},
     "title": ""
    }
   },
   "source": [
    "### where EMPLOYEE_NAME like 'A%'\n",
    "- simple like operator"
   ]
  },
  {
   "cell_type": "code",
   "execution_count": 0,
   "metadata": {
    "application/vnd.databricks.v1+cell": {
     "cellMetadata": {
      "byteLimit": 2048000,
      "rowLimit": 10000
     },
     "inputWidgets": {},
     "nuid": "23de49d9-d9d7-426a-bdd9-8ae34f8bc004",
     "showTitle": false,
     "tableResultSettingsMap": {},
     "title": ""
    }
   },
   "outputs": [
    {
     "output_type": "display_data",
     "data": {
      "text/html": [
       "<style scoped>\n",
       "  .table-result-container {\n",
       "    max-height: 300px;\n",
       "    overflow: auto;\n",
       "  }\n",
       "  table, th, td {\n",
       "    border: 1px solid black;\n",
       "    border-collapse: collapse;\n",
       "  }\n",
       "  th, td {\n",
       "    padding: 5px;\n",
       "  }\n",
       "  th {\n",
       "    text-align: left;\n",
       "  }\n",
       "</style><div class='table-result-container'><table class='table-result'><thead style='background-color: white'><tr><th>S No</th><th>Emp_Code</th><th>EMPLOYEE_NAME</th><th>DOB</th><th>Age</th><th>Gender</th><th>Marital_Status</th></tr></thead><tbody><tr><td>18</td><td>B2B00024</td><td>Adarsh Patel</td><td>26-Jan-03</td><td>21</td><td>Male</td><td>Un-Married</td></tr><tr><td>25</td><td>B2B00031</td><td>Ashish Kumar Sen</td><td>03-May-00</td><td>24</td><td>Male </td><td>Un-Married</td></tr></tbody></table></div>"
      ]
     },
     "metadata": {
      "application/vnd.databricks.v1+output": {
       "addedWidgets": {},
       "aggData": [],
       "aggError": "",
       "aggOverflow": false,
       "aggSchema": [],
       "aggSeriesLimitReached": false,
       "aggType": "",
       "arguments": {},
       "columnCustomDisplayInfos": {},
       "data": [
        [
         18,
         "B2B00024",
         "Adarsh Patel",
         "26-Jan-03",
         21,
         "Male",
         "Un-Married"
        ],
        [
         25,
         "B2B00031",
         "Ashish Kumar Sen",
         "03-May-00",
         24,
         "Male ",
         "Un-Married"
        ]
       ],
       "datasetInfos": [
        {
         "name": "_sqldf",
         "schema": {
          "fields": [
           {
            "metadata": {},
            "name": "S No",
            "nullable": true,
            "type": "long"
           },
           {
            "metadata": {},
            "name": "Emp_Code",
            "nullable": true,
            "type": "string"
           },
           {
            "metadata": {},
            "name": "EMPLOYEE_NAME",
            "nullable": true,
            "type": "string"
           },
           {
            "metadata": {},
            "name": "DOB",
            "nullable": true,
            "type": "string"
           },
           {
            "metadata": {},
            "name": "Age",
            "nullable": true,
            "type": "long"
           },
           {
            "metadata": {},
            "name": "Gender",
            "nullable": true,
            "type": "string"
           },
           {
            "metadata": {},
            "name": "Marital_Status",
            "nullable": true,
            "type": "string"
           }
          ],
          "type": "struct"
         },
         "tableIdentifier": null,
         "typeStr": "pyspark.sql.connect.dataframe.DataFrame"
        }
       ],
       "dbfsResultPath": null,
       "isJsonSchema": true,
       "metadata": {
        "dataframeName": "_sqldf",
        "executionCount": 4
       },
       "overflow": false,
       "plotOptions": {
        "customPlotOptions": {},
        "displayType": "table",
        "pivotAggregation": null,
        "pivotColumns": null,
        "xColumns": null,
        "yColumns": null
       },
       "removedWidgets": [],
       "schema": [
        {
         "metadata": "{}",
         "name": "S No",
         "type": "\"long\""
        },
        {
         "metadata": "{}",
         "name": "Emp_Code",
         "type": "\"string\""
        },
        {
         "metadata": "{}",
         "name": "EMPLOYEE_NAME",
         "type": "\"string\""
        },
        {
         "metadata": "{}",
         "name": "DOB",
         "type": "\"string\""
        },
        {
         "metadata": "{}",
         "name": "Age",
         "type": "\"long\""
        },
        {
         "metadata": "{}",
         "name": "Gender",
         "type": "\"string\""
        },
        {
         "metadata": "{}",
         "name": "Marital_Status",
         "type": "\"string\""
        }
       ],
       "type": "table"
      }
     },
     "output_type": "display_data"
    }
   ],
   "source": [
    "%sql\n",
    "SELECT * FROM b2b_dev.default.b2b_emp where EMPLOYEE_NAME like 'A%'"
   ]
  },
  {
   "cell_type": "markdown",
   "metadata": {
    "application/vnd.databricks.v1+cell": {
     "cellMetadata": {},
     "inputWidgets": {},
     "nuid": "e66d0358-cef6-4302-8f65-1ff231be4bad",
     "showTitle": false,
     "tableResultSettingsMap": {},
     "title": ""
    }
   },
   "source": [
    "### where EMPLOYEE_NAME \"like some\" ('%A%','%D%')\n",
    "- wild card operation\n",
    "- we can search more then one char at a time"
   ]
  },
  {
   "cell_type": "code",
   "execution_count": 0,
   "metadata": {
    "application/vnd.databricks.v1+cell": {
     "cellMetadata": {
      "byteLimit": 2048000,
      "rowLimit": 10000
     },
     "inputWidgets": {},
     "nuid": "da147e32-61dd-4fe7-a6cf-7b26a02a421c",
     "showTitle": false,
     "tableResultSettingsMap": {},
     "title": ""
    }
   },
   "outputs": [
    {
     "output_type": "display_data",
     "data": {
      "text/html": [
       "<style scoped>\n",
       "  .table-result-container {\n",
       "    max-height: 300px;\n",
       "    overflow: auto;\n",
       "  }\n",
       "  table, th, td {\n",
       "    border: 1px solid black;\n",
       "    border-collapse: collapse;\n",
       "  }\n",
       "  th, td {\n",
       "    padding: 5px;\n",
       "  }\n",
       "  th {\n",
       "    text-align: left;\n",
       "  }\n",
       "</style><div class='table-result-container'><table class='table-result'><thead style='background-color: white'><tr><th>S No</th><th>Emp_Code</th><th>EMPLOYEE_NAME</th><th>DOB</th><th>Age</th><th>Gender</th><th>Marital_Status</th></tr></thead><tbody><tr><td>6</td><td>B2B00009</td><td>Deepesh Patel</td><td>20-Feb-96</td><td>28</td><td>Male </td><td>Un-Married</td></tr><tr><td>18</td><td>B2B00024</td><td>Adarsh Patel</td><td>26-Jan-03</td><td>21</td><td>Male</td><td>Un-Married</td></tr><tr><td>25</td><td>B2B00031</td><td>Ashish Kumar Sen</td><td>03-May-00</td><td>24</td><td>Male </td><td>Un-Married</td></tr></tbody></table></div>"
      ]
     },
     "metadata": {
      "application/vnd.databricks.v1+output": {
       "addedWidgets": {},
       "aggData": [],
       "aggError": "",
       "aggOverflow": false,
       "aggSchema": [],
       "aggSeriesLimitReached": false,
       "aggType": "",
       "arguments": {},
       "columnCustomDisplayInfos": {},
       "data": [
        [
         6,
         "B2B00009",
         "Deepesh Patel",
         "20-Feb-96",
         28,
         "Male ",
         "Un-Married"
        ],
        [
         18,
         "B2B00024",
         "Adarsh Patel",
         "26-Jan-03",
         21,
         "Male",
         "Un-Married"
        ],
        [
         25,
         "B2B00031",
         "Ashish Kumar Sen",
         "03-May-00",
         24,
         "Male ",
         "Un-Married"
        ]
       ],
       "datasetInfos": [
        {
         "name": "_sqldf",
         "schema": {
          "fields": [
           {
            "metadata": {},
            "name": "S No",
            "nullable": true,
            "type": "long"
           },
           {
            "metadata": {},
            "name": "Emp_Code",
            "nullable": true,
            "type": "string"
           },
           {
            "metadata": {},
            "name": "EMPLOYEE_NAME",
            "nullable": true,
            "type": "string"
           },
           {
            "metadata": {},
            "name": "DOB",
            "nullable": true,
            "type": "string"
           },
           {
            "metadata": {},
            "name": "Age",
            "nullable": true,
            "type": "long"
           },
           {
            "metadata": {},
            "name": "Gender",
            "nullable": true,
            "type": "string"
           },
           {
            "metadata": {},
            "name": "Marital_Status",
            "nullable": true,
            "type": "string"
           }
          ],
          "type": "struct"
         },
         "tableIdentifier": null,
         "typeStr": "pyspark.sql.connect.dataframe.DataFrame"
        }
       ],
       "dbfsResultPath": null,
       "isJsonSchema": true,
       "metadata": {
        "dataframeName": "_sqldf",
        "executionCount": 9
       },
       "overflow": false,
       "plotOptions": {
        "customPlotOptions": {},
        "displayType": "table",
        "pivotAggregation": null,
        "pivotColumns": null,
        "xColumns": null,
        "yColumns": null
       },
       "removedWidgets": [],
       "schema": [
        {
         "metadata": "{}",
         "name": "S No",
         "type": "\"long\""
        },
        {
         "metadata": "{}",
         "name": "Emp_Code",
         "type": "\"string\""
        },
        {
         "metadata": "{}",
         "name": "EMPLOYEE_NAME",
         "type": "\"string\""
        },
        {
         "metadata": "{}",
         "name": "DOB",
         "type": "\"string\""
        },
        {
         "metadata": "{}",
         "name": "Age",
         "type": "\"long\""
        },
        {
         "metadata": "{}",
         "name": "Gender",
         "type": "\"string\""
        },
        {
         "metadata": "{}",
         "name": "Marital_Status",
         "type": "\"string\""
        }
       ],
       "type": "table"
      }
     },
     "output_type": "display_data"
    }
   ],
   "source": [
    "%sql\n",
    "SELECT * FROM b2b_dev.default.b2b_emp where EMPLOYEE_NAME like some ('A%','D%')"
   ]
  },
  {
   "cell_type": "markdown",
   "metadata": {
    "application/vnd.databricks.v1+cell": {
     "cellMetadata": {},
     "inputWidgets": {},
     "nuid": "9f064859-64d5-4ae2-95fb-1c016ea62a3c",
     "showTitle": false,
     "tableResultSettingsMap": {},
     "title": ""
    }
   },
   "source": [
    "#  where EMPLOYEE_NAME \"ilike\"('a%')\n",
    "- Ilike - it will filter the data small & capital letter both type or data"
   ]
  },
  {
   "cell_type": "code",
   "execution_count": 0,
   "metadata": {
    "application/vnd.databricks.v1+cell": {
     "cellMetadata": {
      "byteLimit": 2048000,
      "rowLimit": 10000
     },
     "inputWidgets": {},
     "nuid": "69bcb357-78db-4e1c-b2fc-f5b1cd8771a7",
     "showTitle": false,
     "tableResultSettingsMap": {},
     "title": ""
    }
   },
   "outputs": [
    {
     "output_type": "display_data",
     "data": {
      "text/html": [
       "<style scoped>\n",
       "  .table-result-container {\n",
       "    max-height: 300px;\n",
       "    overflow: auto;\n",
       "  }\n",
       "  table, th, td {\n",
       "    border: 1px solid black;\n",
       "    border-collapse: collapse;\n",
       "  }\n",
       "  th, td {\n",
       "    padding: 5px;\n",
       "  }\n",
       "  th {\n",
       "    text-align: left;\n",
       "  }\n",
       "</style><div class='table-result-container'><table class='table-result'><thead style='background-color: white'><tr><th>S No</th><th>Emp_Code</th><th>EMPLOYEE_NAME</th><th>DOB</th><th>Age</th><th>Gender</th><th>Marital_Status</th></tr></thead><tbody><tr><td>18</td><td>B2B00024</td><td>Adarsh Patel</td><td>26-Jan-03</td><td>21</td><td>Male</td><td>Un-Married</td></tr><tr><td>25</td><td>B2B00031</td><td>Ashish Kumar Sen</td><td>03-May-00</td><td>24</td><td>Male </td><td>Un-Married</td></tr></tbody></table></div>"
      ]
     },
     "metadata": {
      "application/vnd.databricks.v1+output": {
       "addedWidgets": {},
       "aggData": [],
       "aggError": "",
       "aggOverflow": false,
       "aggSchema": [],
       "aggSeriesLimitReached": false,
       "aggType": "",
       "arguments": {},
       "columnCustomDisplayInfos": {},
       "data": [
        [
         18,
         "B2B00024",
         "Adarsh Patel",
         "26-Jan-03",
         21,
         "Male",
         "Un-Married"
        ],
        [
         25,
         "B2B00031",
         "Ashish Kumar Sen",
         "03-May-00",
         24,
         "Male ",
         "Un-Married"
        ]
       ],
       "datasetInfos": [
        {
         "name": "_sqldf",
         "schema": {
          "fields": [
           {
            "metadata": {},
            "name": "S No",
            "nullable": true,
            "type": "long"
           },
           {
            "metadata": {},
            "name": "Emp_Code",
            "nullable": true,
            "type": "string"
           },
           {
            "metadata": {},
            "name": "EMPLOYEE_NAME",
            "nullable": true,
            "type": "string"
           },
           {
            "metadata": {},
            "name": "DOB",
            "nullable": true,
            "type": "string"
           },
           {
            "metadata": {},
            "name": "Age",
            "nullable": true,
            "type": "long"
           },
           {
            "metadata": {},
            "name": "Gender",
            "nullable": true,
            "type": "string"
           },
           {
            "metadata": {},
            "name": "Marital_Status",
            "nullable": true,
            "type": "string"
           }
          ],
          "type": "struct"
         },
         "tableIdentifier": null,
         "typeStr": "pyspark.sql.connect.dataframe.DataFrame"
        }
       ],
       "dbfsResultPath": null,
       "isJsonSchema": true,
       "metadata": {
        "dataframeName": "_sqldf",
        "executionCount": 12
       },
       "overflow": false,
       "plotOptions": {
        "customPlotOptions": {},
        "displayType": "table",
        "pivotAggregation": null,
        "pivotColumns": null,
        "xColumns": null,
        "yColumns": null
       },
       "removedWidgets": [],
       "schema": [
        {
         "metadata": "{}",
         "name": "S No",
         "type": "\"long\""
        },
        {
         "metadata": "{}",
         "name": "Emp_Code",
         "type": "\"string\""
        },
        {
         "metadata": "{}",
         "name": "EMPLOYEE_NAME",
         "type": "\"string\""
        },
        {
         "metadata": "{}",
         "name": "DOB",
         "type": "\"string\""
        },
        {
         "metadata": "{}",
         "name": "Age",
         "type": "\"long\""
        },
        {
         "metadata": "{}",
         "name": "Gender",
         "type": "\"string\""
        },
        {
         "metadata": "{}",
         "name": "Marital_Status",
         "type": "\"string\""
        }
       ],
       "type": "table"
      }
     },
     "output_type": "display_data"
    }
   ],
   "source": [
    "%sql\n",
    "SELECT * FROM b2b_dev.default.b2b_emp where EMPLOYEE_NAME ilike('a%')"
   ]
  },
  {
   "cell_type": "markdown",
   "metadata": {
    "application/vnd.databricks.v1+cell": {
     "cellMetadata": {},
     "inputWidgets": {},
     "nuid": "3c0d8dc3-ccbf-4155-9e8b-a6717266bff1",
     "showTitle": false,
     "tableResultSettingsMap": {},
     "title": ""
    }
   },
   "source": [
    "### through the reguler Expression\n",
    "- start with 'A' and end with 'A'"
   ]
  },
  {
   "cell_type": "code",
   "execution_count": 0,
   "metadata": {
    "application/vnd.databricks.v1+cell": {
     "cellMetadata": {
      "byteLimit": 2048000,
      "rowLimit": 10000
     },
     "inputWidgets": {},
     "nuid": "71f8d412-4f32-46a0-808f-6e9560b7a3b5",
     "showTitle": false,
     "tableResultSettingsMap": {},
     "title": ""
    }
   },
   "outputs": [
    {
     "output_type": "display_data",
     "data": {
      "text/html": [
       "<style scoped>\n",
       "  .table-result-container {\n",
       "    max-height: 300px;\n",
       "    overflow: auto;\n",
       "  }\n",
       "  table, th, td {\n",
       "    border: 1px solid black;\n",
       "    border-collapse: collapse;\n",
       "  }\n",
       "  th, td {\n",
       "    padding: 5px;\n",
       "  }\n",
       "  th {\n",
       "    text-align: left;\n",
       "  }\n",
       "</style><div class='table-result-container'><table class='table-result'><thead style='background-color: white'><tr><th>S No</th><th>Emp_Code</th><th>EMPLOYEE_NAME</th><th>DOB</th><th>Age</th><th>Gender</th><th>Marital_Status</th></tr></thead><tbody></tbody></table></div>"
      ]
     },
     "metadata": {
      "application/vnd.databricks.v1+output": {
       "addedWidgets": {},
       "aggData": [],
       "aggError": "",
       "aggOverflow": false,
       "aggSchema": [],
       "aggSeriesLimitReached": false,
       "aggType": "",
       "arguments": {},
       "columnCustomDisplayInfos": {},
       "data": [],
       "datasetInfos": [],
       "dbfsResultPath": null,
       "isJsonSchema": true,
       "metadata": {
        "isDbfsCommandResult": false
       },
       "overflow": false,
       "plotOptions": {
        "customPlotOptions": {},
        "displayType": "table",
        "pivotAggregation": null,
        "pivotColumns": null,
        "xColumns": null,
        "yColumns": null
       },
       "removedWidgets": [],
       "schema": [
        {
         "metadata": "{}",
         "name": "S No",
         "type": "\"long\""
        },
        {
         "metadata": "{}",
         "name": "Emp_Code",
         "type": "\"string\""
        },
        {
         "metadata": "{}",
         "name": "EMPLOYEE_NAME",
         "type": "\"string\""
        },
        {
         "metadata": "{}",
         "name": "DOB",
         "type": "\"string\""
        },
        {
         "metadata": "{}",
         "name": "Age",
         "type": "\"long\""
        },
        {
         "metadata": "{}",
         "name": "Gender",
         "type": "\"string\""
        },
        {
         "metadata": "{}",
         "name": "Marital_Status",
         "type": "\"string\""
        }
       ],
       "type": "table"
      }
     },
     "output_type": "display_data"
    }
   ],
   "source": [
    "%sql\n",
    "SELECT * FROM b2b_dev.default.b2b_emp where EMPLOYEE_NAME REGEXP '^A.*A$'"
   ]
  }
 ],
 "metadata": {
  "application/vnd.databricks.v1+notebook": {
   "computePreferences": null,
   "dashboards": [],
   "environmentMetadata": {
    "base_environment": "",
    "environment_version": "1"
   },
   "language": "sql",
   "notebookMetadata": {
    "mostRecentlyExecutedCommandWithImplicitDF": {
     "commandId": 97602882041804,
     "dataframes": [
      "_sqldf"
     ]
    },
    "pythonIndentUnit": 4
   },
   "notebookName": "sparkSQL filter contion (you should read the notebooks)",
   "widgets": {}
  },
  "language_info": {
   "name": "sql"
  }
 },
 "nbformat": 4,
 "nbformat_minor": 0
}