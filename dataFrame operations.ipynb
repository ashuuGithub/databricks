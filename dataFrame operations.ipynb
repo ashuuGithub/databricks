{
 "cells": [
  {
   "cell_type": "markdown",
   "metadata": {
    "application/vnd.databricks.v1+cell": {
     "cellMetadata": {
      "byteLimit": 2048000,
      "rowLimit": 10000
     },
     "inputWidgets": {},
     "nuid": "81569c40-ae5a-4e31-9f0b-08aa39bdf69e",
     "showTitle": false,
     "tableResultSettingsMap": {},
     "title": ""
    }
   },
   "source": [
    "# DataFrame topics\n",
    "- Method & various operations \n",
    "- Sorting data ASC Order"
   ]
  },
  {
   "cell_type": "code",
   "execution_count": 0,
   "metadata": {
    "application/vnd.databricks.v1+cell": {
     "cellMetadata": {
      "byteLimit": 2048000,
      "rowLimit": 10000
     },
     "inputWidgets": {},
     "nuid": "0bfbebb0-9e0b-467a-98a4-d6e0e71accf5",
     "showTitle": false,
     "tableResultSettingsMap": {},
     "title": ""
    }
   },
   "outputs": [],
   "source": [
    "employees =[(101,\"king\",\"INDIA\"),\n",
    "            (102,\"queen\", \"Canada\"),\n",
    "            (103,\"princess\", \"USA\"),\n",
    "            (104,\"ADARSH\", \"india\"),\n",
    "            (105,\"JATIN\", \"USA\"),\n",
    "            (106,\"SHIV\", \"UK\"),\n",
    "            (107,\"PIYUSH\", \"USA\")]\n",
    "\n",
    "column =[\"employee_id\",\"name\",\"country\"]\n",
    "df= spark.createDataFrame(employees,column)"
   ]
  },
  {
   "cell_type": "code",
   "execution_count": 0,
   "metadata": {
    "application/vnd.databricks.v1+cell": {
     "cellMetadata": {
      "byteLimit": 2048000,
      "rowLimit": 10000
     },
     "inputWidgets": {},
     "nuid": "d60f1905-9e36-479b-b5e6-f82f6c024950",
     "showTitle": false,
     "tableResultSettingsMap": {},
     "title": ""
    }
   },
   "outputs": [
    {
     "output_type": "stream",
     "name": "stdout",
     "output_type": "stream",
     "text": [
      "+-----------+--------+-------+\n|employee_id|    name|country|\n+-----------+--------+-------+\n|        101|    king|  INDIA|\n|        102|   queen| Canada|\n|        103|princess|    USA|\n|        104|  ADARSH|  india|\n|        105|   JATIN|    USA|\n|        106|    SHIV|     UK|\n|        107|  PIYUSH|    USA|\n+-----------+--------+-------+\n\n"
     ]
    }
   ],
   "source": [
    "df.show()"
   ]
  },
  {
   "cell_type": "markdown",
   "metadata": {
    "application/vnd.databricks.v1+cell": {
     "cellMetadata": {
      "byteLimit": 2048000,
      "rowLimit": 10000
     },
     "inputWidgets": {},
     "nuid": "dabd16b1-d735-44b5-9d3b-0687abf71a0b",
     "showTitle": false,
     "tableResultSettingsMap": {},
     "title": ""
    }
   },
   "source": [
    "### Check datatype"
   ]
  },
  {
   "cell_type": "code",
   "execution_count": 0,
   "metadata": {
    "application/vnd.databricks.v1+cell": {
     "cellMetadata": {
      "byteLimit": 2048000,
      "rowLimit": 10000
     },
     "inputWidgets": {},
     "nuid": "5c11ca13-0d54-4eba-9cde-282eaa1ee925",
     "showTitle": false,
     "tableResultSettingsMap": {},
     "title": ""
    }
   },
   "outputs": [
    {
     "output_type": "execute_result",
     "data": {
      "text/plain": [
       "pyspark.sql.connect.dataframe.DataFrame"
      ]
     },
     "execution_count": 5,
     "metadata": {},
     "output_type": "execute_result"
    }
   ],
   "source": [
    "type(df)"
   ]
  },
  {
   "cell_type": "markdown",
   "metadata": {
    "application/vnd.databricks.v1+cell": {
     "cellMetadata": {
      "byteLimit": 2048000,
      "rowLimit": 10000
     },
     "inputWidgets": {},
     "nuid": "a841eca2-65dc-459a-afa4-dc9db4526ba4",
     "showTitle": false,
     "tableResultSettingsMap": {},
     "title": ""
    }
   },
   "source": [
    "### Sorting data ASC Order"
   ]
  },
  {
   "cell_type": "markdown",
   "metadata": {
    "application/vnd.databricks.v1+cell": {
     "cellMetadata": {},
     "inputWidgets": {},
     "nuid": "01d33f94-db08-425f-97b2-85751a47e79e",
     "showTitle": false,
     "tableResultSettingsMap": {},
     "title": ""
    }
   },
   "source": [
    "Sort the data based on name column"
   ]
  },
  {
   "cell_type": "code",
   "execution_count": 0,
   "metadata": {
    "application/vnd.databricks.v1+cell": {
     "cellMetadata": {
      "byteLimit": 2048000,
      "rowLimit": 10000
     },
     "inputWidgets": {},
     "nuid": "b27c5012-10df-4ad9-88be-7473fb5803cc",
     "showTitle": false,
     "tableResultSettingsMap": {},
     "title": ""
    }
   },
   "outputs": [
    {
     "output_type": "stream",
     "name": "stdout",
     "output_type": "stream",
     "text": [
      "+-----------+--------+-------+\n|employee_id|    name|country|\n+-----------+--------+-------+\n|        104|  ADARSH|  india|\n|        105|   JATIN|    USA|\n|        107|  PIYUSH|    USA|\n|        106|    SHIV|     UK|\n|        101|    king|  INDIA|\n|        103|princess|    USA|\n|        102|   queen| Canada|\n+-----------+--------+-------+\n\n"
     ]
    }
   ],
   "source": [
    "#it will sort the data base on name column\n",
    "df.sort(\"name\").show()"
   ]
  },
  {
   "cell_type": "markdown",
   "metadata": {
    "application/vnd.databricks.v1+cell": {
     "cellMetadata": {},
     "inputWidgets": {},
     "nuid": "9101674a-668c-411a-8a47-40cabcec2908",
     "showTitle": false,
     "tableResultSettingsMap": {},
     "title": ""
    }
   },
   "source": [
    "sort the data based on multiple column \n"
   ]
  },
  {
   "cell_type": "code",
   "execution_count": 0,
   "metadata": {
    "application/vnd.databricks.v1+cell": {
     "cellMetadata": {
      "byteLimit": 2048000,
      "rowLimit": 10000
     },
     "inputWidgets": {},
     "nuid": "ab3f65d4-fa7d-4b8b-926a-ca1689fd4908",
     "showTitle": false,
     "tableResultSettingsMap": {},
     "title": ""
    }
   },
   "outputs": [
    {
     "output_type": "stream",
     "name": "stdout",
     "output_type": "stream",
     "text": [
      "+-----------+--------+-------+\n|employee_id|    name|country|\n+-----------+--------+-------+\n|        104|  ADARSH|  india|\n|        105|   JATIN|    USA|\n|        107|  PIYUSH|    USA|\n|        106|    SHIV|     UK|\n|        101|    king|  INDIA|\n|        103|princess|    USA|\n|        102|   queen| Canada|\n+-----------+--------+-------+\n\n"
     ]
    }
   ],
   "source": [
    "df.sort(\"name\",\"country\").show()"
   ]
  },
  {
   "cell_type": "markdown",
   "metadata": {
    "application/vnd.databricks.v1+cell": {
     "cellMetadata": {
      "byteLimit": 2048000,
      "rowLimit": 10000
     },
     "inputWidgets": {},
     "nuid": "72659116-63e6-4756-917a-4adf8c4b1f98",
     "showTitle": false,
     "tableResultSettingsMap": {},
     "title": ""
    }
   },
   "source": [
    "### Sorting data DESC order"
   ]
  },
  {
   "cell_type": "code",
   "execution_count": 0,
   "metadata": {
    "application/vnd.databricks.v1+cell": {
     "cellMetadata": {
      "byteLimit": 2048000,
      "rowLimit": 10000
     },
     "inputWidgets": {},
     "nuid": "7624a3f5-c34e-4d51-a92f-dcb19936cba5",
     "showTitle": false,
     "tableResultSettingsMap": {},
     "title": ""
    }
   },
   "outputs": [
    {
     "output_type": "stream",
     "name": "stdout",
     "output_type": "stream",
     "text": [
      "+-----------+--------+-------+\n|employee_id|    name|country|\n+-----------+--------+-------+\n|        102|   queen| Canada|\n|        103|princess|    USA|\n|        101|    king|  INDIA|\n|        106|    SHIV|     UK|\n|        107|  PIYUSH|    USA|\n|        105|   JATIN|    USA|\n|        104|  ADARSH|  india|\n+-----------+--------+-------+\n\n"
     ]
    }
   ],
   "source": [
    "from pyspark.sql.functions import col\n",
    "df.sort(col(\"name\").desc()).show()"
   ]
  },
  {
   "cell_type": "markdown",
   "metadata": {
    "application/vnd.databricks.v1+cell": {
     "cellMetadata": {
      "byteLimit": 2048000,
      "rowLimit": 10000
     },
     "inputWidgets": {},
     "nuid": "06ec7306-fba2-4c59-90c8-4adf32bb6604",
     "showTitle": false,
     "tableResultSettingsMap": {},
     "title": ""
    }
   },
   "source": [
    "### Display top 5"
   ]
  },
  {
   "cell_type": "code",
   "execution_count": 0,
   "metadata": {
    "application/vnd.databricks.v1+cell": {
     "cellMetadata": {
      "byteLimit": 2048000,
      "rowLimit": 10000
     },
     "inputWidgets": {},
     "nuid": "b786c9fb-c22a-486a-a25a-a9b9bb2f6265",
     "showTitle": false,
     "tableResultSettingsMap": {},
     "title": ""
    }
   },
   "outputs": [
    {
     "output_type": "execute_result",
     "data": {
      "text/plain": [
       "[Row(employee_id=101, name='king', country='INDIA'),\n",
       " Row(employee_id=102, name='queen', country='Canada'),\n",
       " Row(employee_id=103, name='princess', country='USA'),\n",
       " Row(employee_id=104, name='ADARSH', country='india'),\n",
       " Row(employee_id=105, name='JATIN', country='USA')]"
      ]
     },
     "execution_count": 15,
     "metadata": {},
     "output_type": "execute_result"
    }
   ],
   "source": [
    "df.head(5)\n"
   ]
  },
  {
   "cell_type": "markdown",
   "metadata": {
    "application/vnd.databricks.v1+cell": {
     "cellMetadata": {},
     "inputWidgets": {},
     "nuid": "f1108b9f-c8c9-4f1a-9007-c1e15fe5d9dc",
     "showTitle": false,
     "tableResultSettingsMap": {},
     "title": ""
    }
   },
   "source": [
    "Display top 5 from bottom"
   ]
  },
  {
   "cell_type": "code",
   "execution_count": 0,
   "metadata": {
    "application/vnd.databricks.v1+cell": {
     "cellMetadata": {
      "byteLimit": 2048000,
      "rowLimit": 10000
     },
     "inputWidgets": {},
     "nuid": "2e8a42d8-7165-4c02-b5e0-669ff6d857ff",
     "showTitle": false,
     "tableResultSettingsMap": {},
     "title": ""
    }
   },
   "outputs": [
    {
     "output_type": "execute_result",
     "data": {
      "text/plain": [
       "[Row(employee_id=103, name='princess', country='USA'),\n",
       " Row(employee_id=104, name='ADARSH', country='india'),\n",
       " Row(employee_id=105, name='JATIN', country='USA'),\n",
       " Row(employee_id=106, name='SHIV', country='UK'),\n",
       " Row(employee_id=107, name='PIYUSH', country='USA')]"
      ]
     },
     "execution_count": 9,
     "metadata": {},
     "output_type": "execute_result"
    }
   ],
   "source": [
    "df.tail(5)"
   ]
  },
  {
   "cell_type": "markdown",
   "metadata": {
    "application/vnd.databricks.v1+cell": {
     "cellMetadata": {
      "byteLimit": 2048000,
      "rowLimit": 10000
     },
     "inputWidgets": {},
     "nuid": "ecbbb564-c9a3-4bcb-9ad4-94ec348f0e2c",
     "showTitle": false,
     "tableResultSettingsMap": {},
     "title": ""
    }
   },
   "source": [
    "### To know columns name"
   ]
  },
  {
   "cell_type": "code",
   "execution_count": 0,
   "metadata": {
    "application/vnd.databricks.v1+cell": {
     "cellMetadata": {
      "byteLimit": 2048000,
      "rowLimit": 10000
     },
     "inputWidgets": {},
     "nuid": "32b33f8b-30af-456b-afc6-17566828a906",
     "showTitle": false,
     "tableResultSettingsMap": {},
     "title": ""
    }
   },
   "outputs": [
    {
     "output_type": "execute_result",
     "data": {
      "text/plain": [
       "['employee_id', 'name', 'country']"
      ]
     },
     "execution_count": 16,
     "metadata": {},
     "output_type": "execute_result"
    }
   ],
   "source": [
    "\n",
    "df.columns"
   ]
  },
  {
   "cell_type": "markdown",
   "metadata": {
    "application/vnd.databricks.v1+cell": {
     "cellMetadata": {
      "byteLimit": 2048000,
      "rowLimit": 10000
     },
     "inputWidgets": {},
     "nuid": "9e6ac380-cd5f-4b44-baa4-6a77247ccd38",
     "showTitle": false,
     "tableResultSettingsMap": {},
     "title": ""
    }
   },
   "source": [
    "### To select specific columns"
   ]
  },
  {
   "cell_type": "code",
   "execution_count": 0,
   "metadata": {
    "application/vnd.databricks.v1+cell": {
     "cellMetadata": {
      "byteLimit": 2048000,
      "rowLimit": 10000
     },
     "inputWidgets": {},
     "nuid": "9e437bf8-97c2-4a24-8c5b-b6ce3d7cab00",
     "showTitle": false,
     "tableResultSettingsMap": {},
     "title": ""
    }
   },
   "outputs": [
    {
     "output_type": "stream",
     "name": "stdout",
     "output_type": "stream",
     "text": [
      "+-----------+--------+-------+\n|employee_id|    name|country|\n+-----------+--------+-------+\n|        101|    king|  INDIA|\n|        102|   queen| Canada|\n|        103|princess|    USA|\n|        104|  ADARSH|  india|\n|        105|   JATIN|    USA|\n|        106|    SHIV|     UK|\n|        107|  PIYUSH|    USA|\n+-----------+--------+-------+\n\n"
     ]
    }
   ],
   "source": [
    "df.show()"
   ]
  },
  {
   "cell_type": "code",
   "execution_count": 0,
   "metadata": {
    "application/vnd.databricks.v1+cell": {
     "cellMetadata": {
      "byteLimit": 2048000,
      "rowLimit": 10000
     },
     "inputWidgets": {},
     "nuid": "8bebd1f1-04c4-4554-b1c9-c3ce3d542562",
     "showTitle": false,
     "tableResultSettingsMap": {},
     "title": ""
    }
   },
   "outputs": [
    {
     "output_type": "stream",
     "name": "stdout",
     "output_type": "stream",
     "text": [
      "+-----------+\n|employee_id|\n+-----------+\n|        101|\n|        102|\n|        103|\n|        104|\n|        105|\n|        106|\n|        107|\n+-----------+\n\n"
     ]
    }
   ],
   "source": [
    "df.select(\"employee_id\").show()"
   ]
  },
  {
   "cell_type": "code",
   "execution_count": 0,
   "metadata": {
    "application/vnd.databricks.v1+cell": {
     "cellMetadata": {
      "byteLimit": 2048000,
      "rowLimit": 10000
     },
     "inputWidgets": {},
     "nuid": "18c4a1f7-0355-4871-b61a-b3ab8d85d00e",
     "showTitle": false,
     "tableResultSettingsMap": {},
     "title": ""
    }
   },
   "outputs": [
    {
     "output_type": "stream",
     "name": "stdout",
     "output_type": "stream",
     "text": [
      "+-----------+--------+\n|employee_id|    name|\n+-----------+--------+\n|        101|    king|\n|        102|   queen|\n|        103|princess|\n|        104|  ADARSH|\n|        105|   JATIN|\n|        106|    SHIV|\n|        107|  PIYUSH|\n+-----------+--------+\n\n"
     ]
    }
   ],
   "source": [
    "df.select(\"employee_id\",\"name\").show()"
   ]
  },
  {
   "cell_type": "code",
   "execution_count": 0,
   "metadata": {
    "application/vnd.databricks.v1+cell": {
     "cellMetadata": {
      "byteLimit": 2048000,
      "rowLimit": 10000
     },
     "inputWidgets": {},
     "nuid": "9151856e-3492-414a-a30f-5d63017d9061",
     "showTitle": false,
     "tableResultSettingsMap": {},
     "title": ""
    }
   },
   "outputs": [
    {
     "output_type": "stream",
     "name": "stdout",
     "output_type": "stream",
     "text": [
      "+-----------+--------+-------+\n|employee_id|    name|country|\n+-----------+--------+-------+\n|        101|    king|  INDIA|\n|        102|   queen| Canada|\n|        103|princess|    USA|\n|        104|  ADARSH|  india|\n|        105|   JATIN|    USA|\n|        106|    SHIV|     UK|\n|        107|  PIYUSH|    USA|\n+-----------+--------+-------+\n\n"
     ]
    }
   ],
   "source": [
    "df.show()"
   ]
  },
  {
   "cell_type": "markdown",
   "metadata": {
    "application/vnd.databricks.v1+cell": {
     "cellMetadata": {},
     "inputWidgets": {},
     "nuid": "dad0df5d-a295-413c-8e02-15521934ffb4",
     "showTitle": false,
     "tableResultSettingsMap": {},
     "title": ""
    }
   },
   "source": [
    "### Remove\\DROP column from dataFrame"
   ]
  },
  {
   "cell_type": "code",
   "execution_count": 0,
   "metadata": {
    "application/vnd.databricks.v1+cell": {
     "cellMetadata": {
      "byteLimit": 2048000,
      "rowLimit": 10000
     },
     "inputWidgets": {},
     "nuid": "4928851f-960a-4239-9178-77baae619806",
     "showTitle": false,
     "tableResultSettingsMap": {},
     "title": ""
    }
   },
   "outputs": [
    {
     "output_type": "stream",
     "name": "stdout",
     "output_type": "stream",
     "text": [
      "+-----------+--------+\n|employee_id|    name|\n+-----------+--------+\n|        101|    king|\n|        102|   queen|\n|        103|princess|\n|        104|  ADARSH|\n|        105|   JATIN|\n|        106|    SHIV|\n|        107|  PIYUSH|\n+-----------+--------+\n\n"
     ]
    }
   ],
   "source": [
    "df.drop(\"country\").show()"
   ]
  },
  {
   "cell_type": "code",
   "execution_count": 0,
   "metadata": {
    "application/vnd.databricks.v1+cell": {
     "cellMetadata": {
      "byteLimit": 2048000,
      "rowLimit": 10000
     },
     "inputWidgets": {},
     "nuid": "db14538c-1978-4ce1-9a92-f602bc65585c",
     "showTitle": false,
     "tableResultSettingsMap": {},
     "title": ""
    }
   },
   "outputs": [
    {
     "output_type": "stream",
     "name": "stdout",
     "output_type": "stream",
     "text": [
      "+-----------+--------+-------+\n|employee_id|    name|country|\n+-----------+--------+-------+\n|        101|    king|  INDIA|\n|        102|   queen| Canada|\n|        103|princess|    USA|\n|        104|  ADARSH|  india|\n|        105|   JATIN|    USA|\n|        106|    SHIV|     UK|\n|        107|  PIYUSH|    USA|\n+-----------+--------+-------+\n\n"
     ]
    }
   ],
   "source": [
    "df.show()"
   ]
  },
  {
   "cell_type": "code",
   "execution_count": 0,
   "metadata": {
    "application/vnd.databricks.v1+cell": {
     "cellMetadata": {
      "byteLimit": 2048000,
      "rowLimit": 10000
     },
     "inputWidgets": {},
     "nuid": "87ce0db3-fcf8-4148-a932-a702122b22bf",
     "showTitle": false,
     "tableResultSettingsMap": {},
     "title": ""
    }
   },
   "outputs": [
    {
     "output_type": "stream",
     "name": "stdout",
     "output_type": "stream",
     "text": [
      "+-----------+--------+\n|employee_id|    name|\n+-----------+--------+\n|        101|    king|\n|        102|   queen|\n|        103|princess|\n|        104|  ADARSH|\n|        105|   JATIN|\n|        106|    SHIV|\n|        107|  PIYUSH|\n+-----------+--------+\n\n"
     ]
    }
   ],
   "source": [
    "df.drop(\"country\").show()"
   ]
  },
  {
   "cell_type": "code",
   "execution_count": 0,
   "metadata": {
    "application/vnd.databricks.v1+cell": {
     "cellMetadata": {},
     "inputWidgets": {},
     "nuid": "54def958-e0a1-42a7-87fa-c5db37a0abfa",
     "showTitle": false,
     "tableResultSettingsMap": {},
     "title": ""
    }
   },
   "outputs": [],
   "source": []
  }
 ],
 "metadata": {
  "application/vnd.databricks.v1+notebook": {
   "computePreferences": null,
   "dashboards": [],
   "environmentMetadata": {
    "base_environment": "",
    "environment_version": "1"
   },
   "language": "python",
   "notebookMetadata": {
    "pythonIndentUnit": 4
   },
   "notebookName": "dataFrame operations",
   "widgets": {}
  },
  "language_info": {
   "name": "python"
  }
 },
 "nbformat": 4,
 "nbformat_minor": 0
}