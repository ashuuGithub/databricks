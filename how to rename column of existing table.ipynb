{
 "cells": [
  {
   "cell_type": "code",
   "execution_count": 0,
   "metadata": {
    "application/vnd.databricks.v1+cell": {
     "cellMetadata": {
      "byteLimit": 2048000,
      "rowLimit": 10000
     },
     "inputWidgets": {},
     "nuid": "9da22ffd-3f66-4aed-8db3-7297f3e70944",
     "showTitle": false,
     "tableResultSettingsMap": {},
     "title": ""
    }
   },
   "outputs": [],
   "source": [
    "df = (spark.read.format(\"csv\")\n",
    ".option(\"path\",\"/FileStore/tables/B2B_EMPLOYEE-1.csv\")\n",
    ".option(\"header\", \"True\")\n",
    ".option(\"inferSchema\", \"True\").load()\n",
    ")\n"
   ]
  },
  {
   "cell_type": "code",
   "execution_count": 0,
   "metadata": {
    "application/vnd.databricks.v1+cell": {
     "cellMetadata": {
      "byteLimit": 2048000,
      "rowLimit": 10000
     },
     "inputWidgets": {},
     "nuid": "ede22607-0e7f-405d-875a-aac000372594",
     "showTitle": false,
     "tableResultSettingsMap": {},
     "title": ""
    }
   },
   "outputs": [
    {
     "output_type": "display_data",
     "data": {
      "text/html": [
       "<style scoped>\n",
       "  .table-result-container {\n",
       "    max-height: 300px;\n",
       "    overflow: auto;\n",
       "  }\n",
       "  table, th, td {\n",
       "    border: 1px solid black;\n",
       "    border-collapse: collapse;\n",
       "  }\n",
       "  th, td {\n",
       "    padding: 5px;\n",
       "  }\n",
       "  th {\n",
       "    text-align: left;\n",
       "  }\n",
       "</style><div class='table-result-container'><table class='table-result'><thead style='background-color: white'><tr><th>S No</th><th>Emp_Code</th><th>EMPLOYEE_NAME</th><th>DOB</th><th>Age</th><th>Gender</th><th>Marital_Status</th></tr></thead><tbody><tr><td>1</td><td>B2B00002</td><td>Vijay Patel</td><td>10-Mar-91</td><td>33</td><td>Male</td><td>Un-Married</td></tr><tr><td>2</td><td>B2B00005</td><td>Vinay Kumar Patel</td><td>11-Nov-99</td><td>24</td><td>Male</td><td>Un-Married</td></tr><tr><td>5</td><td>B2B00008</td><td>Nisha Patel</td><td>21-Jun-00</td><td>24</td><td>Female</td><td>Un-Married</td></tr><tr><td>6</td><td>B2B00009</td><td>Deepesh Patel</td><td>20-Feb-96</td><td>28</td><td>Male </td><td>Un-Married</td></tr><tr><td>7</td><td>B2B00010</td><td>Satish Kumar Patel</td><td>30-Jun-92</td><td>32</td><td>Male</td><td>Un-Married</td></tr><tr><td>8</td><td>B2B00011</td><td>Preeti Tiwari</td><td>05-Jun-99</td><td>25</td><td>Female</td><td>Un-Married</td></tr><tr><td>11</td><td>B2B00014</td><td>Piyush Singh</td><td>24-Jun-97</td><td>27</td><td>Male </td><td>Un-Married</td></tr><tr><td>12</td><td>B2B00015</td><td>Pratibha Namdeo</td><td>08-Jan-98</td><td>26</td><td>Female</td><td>Un-Married</td></tr><tr><td>13</td><td>B2B00018</td><td>Shubhanshu Paroha</td><td>25-May-98</td><td>26</td><td>Male</td><td>Un-Married</td></tr><tr><td>15</td><td>B2B00021</td><td>Sandeep Singh Verma</td><td>12-Oct-98</td><td>25</td><td>Male </td><td>Un-Married</td></tr><tr><td>16</td><td>B2B00022</td><td>Shiv Singh</td><td>25-Apr-97</td><td>27</td><td>Male</td><td>Un-Married</td></tr><tr><td>17</td><td>B2B00023</td><td>Sumit Kumar Chaurasia</td><td>19-Aug-99</td><td>24</td><td>Male</td><td>Un-Married</td></tr><tr><td>18</td><td>B2B00024</td><td>Adarsh Patel</td><td>26-Jan-03</td><td>21</td><td>Male</td><td>Un-Married</td></tr><tr><td>20</td><td>B2B00026</td><td>Rajneesh Patel</td><td>12-Jan-98</td><td>26</td><td>Male</td><td>Un-Married</td></tr><tr><td>22</td><td>B2B00028</td><td>Sumit Dwivedi</td><td>12-Jul-99</td><td>25</td><td>Male</td><td>Un-Married</td></tr><tr><td>23</td><td>B2B00029</td><td>Khusbu Patel</td><td>02-Feb-99</td><td>25</td><td>Female</td><td>Un-Married</td></tr><tr><td>25</td><td>B2B00031</td><td>Ashish Kumar Sen</td><td>03-May-00</td><td>24</td><td>Male </td><td>Un-Married</td></tr></tbody></table></div>"
      ]
     },
     "metadata": {
      "application/vnd.databricks.v1+output": {
       "addedWidgets": {},
       "aggData": [],
       "aggError": "",
       "aggOverflow": false,
       "aggSchema": [],
       "aggSeriesLimitReached": false,
       "aggType": "",
       "arguments": {},
       "columnCustomDisplayInfos": {},
       "data": [
        [
         1,
         "B2B00002",
         "Vijay Patel",
         "10-Mar-91",
         33,
         "Male",
         "Un-Married"
        ],
        [
         2,
         "B2B00005",
         "Vinay Kumar Patel",
         "11-Nov-99",
         24,
         "Male",
         "Un-Married"
        ],
        [
         5,
         "B2B00008",
         "Nisha Patel",
         "21-Jun-00",
         24,
         "Female",
         "Un-Married"
        ],
        [
         6,
         "B2B00009",
         "Deepesh Patel",
         "20-Feb-96",
         28,
         "Male ",
         "Un-Married"
        ],
        [
         7,
         "B2B00010",
         "Satish Kumar Patel",
         "30-Jun-92",
         32,
         "Male",
         "Un-Married"
        ],
        [
         8,
         "B2B00011",
         "Preeti Tiwari",
         "05-Jun-99",
         25,
         "Female",
         "Un-Married"
        ],
        [
         11,
         "B2B00014",
         "Piyush Singh",
         "24-Jun-97",
         27,
         "Male ",
         "Un-Married"
        ],
        [
         12,
         "B2B00015",
         "Pratibha Namdeo",
         "08-Jan-98",
         26,
         "Female",
         "Un-Married"
        ],
        [
         13,
         "B2B00018",
         "Shubhanshu Paroha",
         "25-May-98",
         26,
         "Male",
         "Un-Married"
        ],
        [
         15,
         "B2B00021",
         "Sandeep Singh Verma",
         "12-Oct-98",
         25,
         "Male ",
         "Un-Married"
        ],
        [
         16,
         "B2B00022",
         "Shiv Singh",
         "25-Apr-97",
         27,
         "Male",
         "Un-Married"
        ],
        [
         17,
         "B2B00023",
         "Sumit Kumar Chaurasia",
         "19-Aug-99",
         24,
         "Male",
         "Un-Married"
        ],
        [
         18,
         "B2B00024",
         "Adarsh Patel",
         "26-Jan-03",
         21,
         "Male",
         "Un-Married"
        ],
        [
         20,
         "B2B00026",
         "Rajneesh Patel",
         "12-Jan-98",
         26,
         "Male",
         "Un-Married"
        ],
        [
         22,
         "B2B00028",
         "Sumit Dwivedi",
         "12-Jul-99",
         25,
         "Male",
         "Un-Married"
        ],
        [
         23,
         "B2B00029",
         "Khusbu Patel",
         "02-Feb-99",
         25,
         "Female",
         "Un-Married"
        ],
        [
         25,
         "B2B00031",
         "Ashish Kumar Sen",
         "03-May-00",
         24,
         "Male ",
         "Un-Married"
        ]
       ],
       "datasetInfos": [],
       "dbfsResultPath": null,
       "isJsonSchema": true,
       "metadata": {},
       "overflow": false,
       "plotOptions": {
        "customPlotOptions": {},
        "displayType": "table",
        "pivotAggregation": null,
        "pivotColumns": null,
        "xColumns": null,
        "yColumns": null
       },
       "removedWidgets": [],
       "schema": [
        {
         "metadata": "{}",
         "name": "S No",
         "type": "\"integer\""
        },
        {
         "metadata": "{}",
         "name": "Emp_Code",
         "type": "\"string\""
        },
        {
         "metadata": "{}",
         "name": "EMPLOYEE_NAME",
         "type": "\"string\""
        },
        {
         "metadata": "{}",
         "name": "DOB",
         "type": "\"string\""
        },
        {
         "metadata": "{}",
         "name": "Age",
         "type": "\"integer\""
        },
        {
         "metadata": "{}",
         "name": "Gender",
         "type": "\"string\""
        },
        {
         "metadata": "{}",
         "name": "Marital_Status",
         "type": "\"string\""
        }
       ],
       "type": "table"
      }
     },
     "output_type": "display_data"
    }
   ],
   "source": [
    "display(df)"
   ]
  },
  {
   "cell_type": "markdown",
   "metadata": {
    "application/vnd.databricks.v1+cell": {
     "cellMetadata": {},
     "inputWidgets": {},
     "nuid": "4db69886-a5f4-46cf-a02a-a197e691dd84",
     "showTitle": false,
     "tableResultSettingsMap": {},
     "title": ""
    }
   },
   "source": [
    "### rename column emp_code to EMPNO"
   ]
  },
  {
   "cell_type": "code",
   "execution_count": 0,
   "metadata": {
    "application/vnd.databricks.v1+cell": {
     "cellMetadata": {
      "byteLimit": 2048000,
      "rowLimit": 10000
     },
     "inputWidgets": {},
     "nuid": "fb9eae94-675c-4792-b4f6-34e2993a7f84",
     "showTitle": false,
     "tableResultSettingsMap": {},
     "title": ""
    }
   },
   "outputs": [
    {
     "output_type": "display_data",
     "data": {
      "text/html": [
       "<style scoped>\n",
       "  .table-result-container {\n",
       "    max-height: 300px;\n",
       "    overflow: auto;\n",
       "  }\n",
       "  table, th, td {\n",
       "    border: 1px solid black;\n",
       "    border-collapse: collapse;\n",
       "  }\n",
       "  th, td {\n",
       "    padding: 5px;\n",
       "  }\n",
       "  th {\n",
       "    text-align: left;\n",
       "  }\n",
       "</style><div class='table-result-container'><table class='table-result'><thead style='background-color: white'><tr><th>S No</th><th>EMPNO</th><th>EMPLOYEE_NAME</th><th>DOB</th><th>Age</th><th>Gender</th><th>Marital_Status</th></tr></thead><tbody><tr><td>1</td><td>B2B00002</td><td>Vijay Patel</td><td>10-Mar-91</td><td>33</td><td>Male</td><td>Un-Married</td></tr><tr><td>2</td><td>B2B00005</td><td>Vinay Kumar Patel</td><td>11-Nov-99</td><td>24</td><td>Male</td><td>Un-Married</td></tr><tr><td>5</td><td>B2B00008</td><td>Nisha Patel</td><td>21-Jun-00</td><td>24</td><td>Female</td><td>Un-Married</td></tr><tr><td>6</td><td>B2B00009</td><td>Deepesh Patel</td><td>20-Feb-96</td><td>28</td><td>Male </td><td>Un-Married</td></tr><tr><td>7</td><td>B2B00010</td><td>Satish Kumar Patel</td><td>30-Jun-92</td><td>32</td><td>Male</td><td>Un-Married</td></tr><tr><td>8</td><td>B2B00011</td><td>Preeti Tiwari</td><td>05-Jun-99</td><td>25</td><td>Female</td><td>Un-Married</td></tr><tr><td>11</td><td>B2B00014</td><td>Piyush Singh</td><td>24-Jun-97</td><td>27</td><td>Male </td><td>Un-Married</td></tr><tr><td>12</td><td>B2B00015</td><td>Pratibha Namdeo</td><td>08-Jan-98</td><td>26</td><td>Female</td><td>Un-Married</td></tr><tr><td>13</td><td>B2B00018</td><td>Shubhanshu Paroha</td><td>25-May-98</td><td>26</td><td>Male</td><td>Un-Married</td></tr><tr><td>15</td><td>B2B00021</td><td>Sandeep Singh Verma</td><td>12-Oct-98</td><td>25</td><td>Male </td><td>Un-Married</td></tr><tr><td>16</td><td>B2B00022</td><td>Shiv Singh</td><td>25-Apr-97</td><td>27</td><td>Male</td><td>Un-Married</td></tr><tr><td>17</td><td>B2B00023</td><td>Sumit Kumar Chaurasia</td><td>19-Aug-99</td><td>24</td><td>Male</td><td>Un-Married</td></tr><tr><td>18</td><td>B2B00024</td><td>Adarsh Patel</td><td>26-Jan-03</td><td>21</td><td>Male</td><td>Un-Married</td></tr><tr><td>20</td><td>B2B00026</td><td>Rajneesh Patel</td><td>12-Jan-98</td><td>26</td><td>Male</td><td>Un-Married</td></tr><tr><td>22</td><td>B2B00028</td><td>Sumit Dwivedi</td><td>12-Jul-99</td><td>25</td><td>Male</td><td>Un-Married</td></tr><tr><td>23</td><td>B2B00029</td><td>Khusbu Patel</td><td>02-Feb-99</td><td>25</td><td>Female</td><td>Un-Married</td></tr><tr><td>25</td><td>B2B00031</td><td>Ashish Kumar Sen</td><td>03-May-00</td><td>24</td><td>Male </td><td>Un-Married</td></tr></tbody></table></div>"
      ]
     },
     "metadata": {
      "application/vnd.databricks.v1+output": {
       "addedWidgets": {},
       "aggData": [],
       "aggError": "",
       "aggOverflow": false,
       "aggSchema": [],
       "aggSeriesLimitReached": false,
       "aggType": "",
       "arguments": {},
       "columnCustomDisplayInfos": {},
       "data": [
        [
         1,
         "B2B00002",
         "Vijay Patel",
         "10-Mar-91",
         33,
         "Male",
         "Un-Married"
        ],
        [
         2,
         "B2B00005",
         "Vinay Kumar Patel",
         "11-Nov-99",
         24,
         "Male",
         "Un-Married"
        ],
        [
         5,
         "B2B00008",
         "Nisha Patel",
         "21-Jun-00",
         24,
         "Female",
         "Un-Married"
        ],
        [
         6,
         "B2B00009",
         "Deepesh Patel",
         "20-Feb-96",
         28,
         "Male ",
         "Un-Married"
        ],
        [
         7,
         "B2B00010",
         "Satish Kumar Patel",
         "30-Jun-92",
         32,
         "Male",
         "Un-Married"
        ],
        [
         8,
         "B2B00011",
         "Preeti Tiwari",
         "05-Jun-99",
         25,
         "Female",
         "Un-Married"
        ],
        [
         11,
         "B2B00014",
         "Piyush Singh",
         "24-Jun-97",
         27,
         "Male ",
         "Un-Married"
        ],
        [
         12,
         "B2B00015",
         "Pratibha Namdeo",
         "08-Jan-98",
         26,
         "Female",
         "Un-Married"
        ],
        [
         13,
         "B2B00018",
         "Shubhanshu Paroha",
         "25-May-98",
         26,
         "Male",
         "Un-Married"
        ],
        [
         15,
         "B2B00021",
         "Sandeep Singh Verma",
         "12-Oct-98",
         25,
         "Male ",
         "Un-Married"
        ],
        [
         16,
         "B2B00022",
         "Shiv Singh",
         "25-Apr-97",
         27,
         "Male",
         "Un-Married"
        ],
        [
         17,
         "B2B00023",
         "Sumit Kumar Chaurasia",
         "19-Aug-99",
         24,
         "Male",
         "Un-Married"
        ],
        [
         18,
         "B2B00024",
         "Adarsh Patel",
         "26-Jan-03",
         21,
         "Male",
         "Un-Married"
        ],
        [
         20,
         "B2B00026",
         "Rajneesh Patel",
         "12-Jan-98",
         26,
         "Male",
         "Un-Married"
        ],
        [
         22,
         "B2B00028",
         "Sumit Dwivedi",
         "12-Jul-99",
         25,
         "Male",
         "Un-Married"
        ],
        [
         23,
         "B2B00029",
         "Khusbu Patel",
         "02-Feb-99",
         25,
         "Female",
         "Un-Married"
        ],
        [
         25,
         "B2B00031",
         "Ashish Kumar Sen",
         "03-May-00",
         24,
         "Male ",
         "Un-Married"
        ]
       ],
       "datasetInfos": [],
       "dbfsResultPath": null,
       "isJsonSchema": true,
       "metadata": {},
       "overflow": false,
       "plotOptions": {
        "customPlotOptions": {},
        "displayType": "table",
        "pivotAggregation": null,
        "pivotColumns": null,
        "xColumns": null,
        "yColumns": null
       },
       "removedWidgets": [],
       "schema": [
        {
         "metadata": "{}",
         "name": "S No",
         "type": "\"integer\""
        },
        {
         "metadata": "{}",
         "name": "EMPNO",
         "type": "\"string\""
        },
        {
         "metadata": "{}",
         "name": "EMPLOYEE_NAME",
         "type": "\"string\""
        },
        {
         "metadata": "{}",
         "name": "DOB",
         "type": "\"string\""
        },
        {
         "metadata": "{}",
         "name": "Age",
         "type": "\"integer\""
        },
        {
         "metadata": "{}",
         "name": "Gender",
         "type": "\"string\""
        },
        {
         "metadata": "{}",
         "name": "Marital_Status",
         "type": "\"string\""
        }
       ],
       "type": "table"
      }
     },
     "output_type": "display_data"
    }
   ],
   "source": [
    "renamedf = df.withColumnRenamed(\"Emp_code\", \"EMPNO\")\n",
    "display(renamedf)"
   ]
  },
  {
   "cell_type": "markdown",
   "metadata": {
    "application/vnd.databricks.v1+cell": {
     "cellMetadata": {},
     "inputWidgets": {},
     "nuid": "2a77a9e7-232c-4eac-8ab4-85c30fe7a18a",
     "showTitle": false,
     "tableResultSettingsMap": {},
     "title": ""
    }
   },
   "source": [
    "### # rename column name _employee_name_ to EMP_NAME"
   ]
  },
  {
   "cell_type": "code",
   "execution_count": 0,
   "metadata": {
    "application/vnd.databricks.v1+cell": {
     "cellMetadata": {
      "byteLimit": 2048000,
      "rowLimit": 10000
     },
     "inputWidgets": {},
     "nuid": "2f2abedb-e2cd-441f-b105-e62fea0a790c",
     "showTitle": false,
     "tableResultSettingsMap": {},
     "title": ""
    }
   },
   "outputs": [
    {
     "output_type": "stream",
     "name": "stdout",
     "output_type": "stream",
     "text": [
      "+----+--------+--------------------+---------+---+------+--------------+\n|S No|Emp_Code|            EMP_NAME|      DOB|Age|Gender|Marital_Status|\n+----+--------+--------------------+---------+---+------+--------------+\n|   1|B2B00002|         Vijay Patel|10-Mar-91| 33|  Male|    Un-Married|\n|   2|B2B00005|   Vinay Kumar Patel|11-Nov-99| 24|  Male|    Un-Married|\n|   5|B2B00008|         Nisha Patel|21-Jun-00| 24|Female|    Un-Married|\n|   6|B2B00009|       Deepesh Patel|20-Feb-96| 28| Male |    Un-Married|\n|   7|B2B00010|  Satish Kumar Patel|30-Jun-92| 32|  Male|    Un-Married|\n|   8|B2B00011|       Preeti Tiwari|05-Jun-99| 25|Female|    Un-Married|\n|  11|B2B00014|        Piyush Singh|24-Jun-97| 27| Male |    Un-Married|\n|  12|B2B00015|     Pratibha Namdeo|08-Jan-98| 26|Female|    Un-Married|\n|  13|B2B00018|   Shubhanshu Paroha|25-May-98| 26|  Male|    Un-Married|\n|  15|B2B00021| Sandeep Singh Verma|12-Oct-98| 25| Male |    Un-Married|\n|  16|B2B00022|          Shiv Singh|25-Apr-97| 27|  Male|    Un-Married|\n|  17|B2B00023|Sumit Kumar Chaur...|19-Aug-99| 24|  Male|    Un-Married|\n|  18|B2B00024|        Adarsh Patel|26-Jan-03| 21|  Male|    Un-Married|\n|  20|B2B00026|      Rajneesh Patel|12-Jan-98| 26|  Male|    Un-Married|\n|  22|B2B00028|       Sumit Dwivedi|12-Jul-99| 25|  Male|    Un-Married|\n|  23|B2B00029|        Khusbu Patel|02-Feb-99| 25|Female|    Un-Married|\n|  25|B2B00031|    Ashish Kumar Sen|03-May-00| 24| Male |    Un-Married|\n+----+--------+--------------------+---------+---+------+--------------+\n\n"
     ]
    }
   ],
   "source": [
    "#rename column name employee name to EMP_NAME\n",
    "renamedf = df.withColumnRenamed(\"employee_name\", \"EMP_NAME\").show()"
   ]
  },
  {
   "cell_type": "code",
   "execution_count": 0,
   "metadata": {
    "application/vnd.databricks.v1+cell": {
     "cellMetadata": {},
     "inputWidgets": {},
     "nuid": "a0a0d3fe-a19c-4579-8bde-c2bbe679d698",
     "showTitle": false,
     "tableResultSettingsMap": {},
     "title": ""
    }
   },
   "outputs": [],
   "source": []
  }
 ],
 "metadata": {
  "application/vnd.databricks.v1+notebook": {
   "computePreferences": null,
   "dashboards": [],
   "environmentMetadata": null,
   "language": "python",
   "notebookMetadata": {
    "pythonIndentUnit": 4
   },
   "notebookName": "how to rename column of existing table",
   "widgets": {}
  },
  "language_info": {
   "name": "python"
  }
 },
 "nbformat": 4,
 "nbformat_minor": 0
}