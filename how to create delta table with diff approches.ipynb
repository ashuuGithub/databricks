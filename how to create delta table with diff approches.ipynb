{
 "cells": [
  {
   "cell_type": "markdown",
   "metadata": {
    "application/vnd.databricks.v1+cell": {
     "cellMetadata": {},
     "inputWidgets": {},
     "nuid": "46e02c09-2005-4cef-b807-dc499020f644",
     "showTitle": false,
     "tableResultSettingsMap": {},
     "title": ""
    }
   },
   "source": [
    "### frist create a varibale and store the data into variable, from which file you want to load the data into particuler table"
   ]
  },
  {
   "cell_type": "code",
   "execution_count": 0,
   "metadata": {
    "application/vnd.databricks.v1+cell": {
     "cellMetadata": {
      "byteLimit": 2048000,
      "rowLimit": 10000
     },
     "inputWidgets": {},
     "nuid": "7ba8eb1c-3364-4f73-bea3-1b3384a79d57",
     "showTitle": false,
     "tableResultSettingsMap": {},
     "title": ""
    }
   },
   "outputs": [],
   "source": [
    "insert_b2b_emp = spark.read.format('csv').options(header='true', inferSchema='true').load('/FileStore/tables/B2B_EMPLOYEE.csv')"
   ]
  },
  {
   "cell_type": "markdown",
   "metadata": {
    "application/vnd.databricks.v1+cell": {
     "cellMetadata": {},
     "inputWidgets": {},
     "nuid": "e643e789-c929-4922-b4b7-8a79f41695b1",
     "showTitle": false,
     "tableResultSettingsMap": {},
     "title": ""
    }
   },
   "source": [
    "### check data is reading as expected or not, then go to next steps"
   ]
  },
  {
   "cell_type": "code",
   "execution_count": 0,
   "metadata": {
    "application/vnd.databricks.v1+cell": {
     "cellMetadata": {
      "byteLimit": 2048000,
      "rowLimit": 10000
     },
     "collapsed": true,
     "inputWidgets": {},
     "nuid": "2d1c913b-04cd-4332-b57c-00f78c4bdfe1",
     "showTitle": false,
     "tableResultSettingsMap": {},
     "title": ""
    }
   },
   "outputs": [
    {
     "output_type": "display_data",
     "data": {
      "text/html": [
       "<style scoped>\n",
       "  .table-result-container {\n",
       "    max-height: 300px;\n",
       "    overflow: auto;\n",
       "  }\n",
       "  table, th, td {\n",
       "    border: 1px solid black;\n",
       "    border-collapse: collapse;\n",
       "  }\n",
       "  th, td {\n",
       "    padding: 5px;\n",
       "  }\n",
       "  th {\n",
       "    text-align: left;\n",
       "  }\n",
       "</style><div class='table-result-container'><table class='table-result'><thead style='background-color: white'><tr><th>S_No</th><th>Emp_No</th><th>EMPLOYEE_NAME</th><th>DOB</th><th>Age</th><th>Gender</th><th>Marital_Status</th></tr></thead><tbody><tr><td>1</td><td>B2B00002</td><td>Vijay Patel</td><td>10-Mar-91</td><td>33</td><td>Male</td><td>Un-Married</td></tr><tr><td>2</td><td>B2B00005</td><td>Vinay Kumar Patel</td><td>11-Nov-99</td><td>24</td><td>Male</td><td>Un-Married</td></tr><tr><td>5</td><td>B2B00008</td><td>Nisha Patel</td><td>21-Jun-00</td><td>24</td><td>Female</td><td>Un-Married</td></tr><tr><td>6</td><td>B2B00009</td><td>Deepesh Patel</td><td>20-Feb-96</td><td>28</td><td>Male </td><td>Un-Married</td></tr><tr><td>7</td><td>B2B00010</td><td>Satish Kumar Patel</td><td>30-Jun-92</td><td>32</td><td>Male</td><td>Un-Married</td></tr><tr><td>8</td><td>B2B00011</td><td>Preeti Tiwari</td><td>05-Jun-99</td><td>25</td><td>Female</td><td>Un-Married</td></tr><tr><td>11</td><td>B2B00014</td><td>Piyush Singh</td><td>24-Jun-97</td><td>27</td><td>Male </td><td>Un-Married</td></tr><tr><td>12</td><td>B2B00015</td><td>Pratibha Namdeo</td><td>08-Jan-98</td><td>26</td><td>Female</td><td>Un-Married</td></tr><tr><td>13</td><td>B2B00018</td><td>Shubhanshu Paroha</td><td>25-May-98</td><td>26</td><td>Male</td><td>Un-Married</td></tr><tr><td>15</td><td>B2B00021</td><td>Sandeep Singh Verma</td><td>12-Oct-98</td><td>25</td><td>Male </td><td>Un-Married</td></tr><tr><td>16</td><td>B2B00022</td><td>Shiv Singh</td><td>25-Apr-97</td><td>27</td><td>Male</td><td>Un-Married</td></tr><tr><td>17</td><td>B2B00023</td><td>Sumit Kumar Chaurasia</td><td>19-Aug-99</td><td>24</td><td>Male</td><td>Un-Married</td></tr><tr><td>18</td><td>B2B00024</td><td>Adarsh Patel</td><td>26-Jan-03</td><td>21</td><td>Male</td><td>Un-Married</td></tr><tr><td>20</td><td>B2B00026</td><td>Rajneesh Patel</td><td>12-Jan-98</td><td>26</td><td>Male</td><td>Un-Married</td></tr><tr><td>22</td><td>B2B00028</td><td>Sumit Dwivedi</td><td>12-Jul-99</td><td>25</td><td>Male</td><td>Un-Married</td></tr><tr><td>23</td><td>B2B00029</td><td>Khusbu Patel</td><td>02-Feb-99</td><td>25</td><td>Female</td><td>Un-Married</td></tr><tr><td>25</td><td>B2B00031</td><td>Ashish Kumar Sen</td><td>03-May-00</td><td>24</td><td>Male </td><td>Un-Married</td></tr><tr><td>26</td><td>B2B00032</td><td>Golu vishwakrma</td><td>01-01-1995</td><td>30</td><td>male</td><td>married</td></tr><tr><td>27</td><td>B2B00033</td><td>Vipul shukla</td><td>30-10-1999</td><td>25</td><td>Male</td><td>Un-Married</td></tr></tbody></table></div>"
      ]
     },
     "metadata": {
      "application/vnd.databricks.v1+output": {
       "addedWidgets": {},
       "aggData": [],
       "aggError": "",
       "aggOverflow": false,
       "aggSchema": [],
       "aggSeriesLimitReached": false,
       "aggType": "",
       "arguments": {},
       "columnCustomDisplayInfos": {},
       "data": [
        [
         1,
         "B2B00002",
         "Vijay Patel",
         "10-Mar-91",
         33,
         "Male",
         "Un-Married"
        ],
        [
         2,
         "B2B00005",
         "Vinay Kumar Patel",
         "11-Nov-99",
         24,
         "Male",
         "Un-Married"
        ],
        [
         5,
         "B2B00008",
         "Nisha Patel",
         "21-Jun-00",
         24,
         "Female",
         "Un-Married"
        ],
        [
         6,
         "B2B00009",
         "Deepesh Patel",
         "20-Feb-96",
         28,
         "Male ",
         "Un-Married"
        ],
        [
         7,
         "B2B00010",
         "Satish Kumar Patel",
         "30-Jun-92",
         32,
         "Male",
         "Un-Married"
        ],
        [
         8,
         "B2B00011",
         "Preeti Tiwari",
         "05-Jun-99",
         25,
         "Female",
         "Un-Married"
        ],
        [
         11,
         "B2B00014",
         "Piyush Singh",
         "24-Jun-97",
         27,
         "Male ",
         "Un-Married"
        ],
        [
         12,
         "B2B00015",
         "Pratibha Namdeo",
         "08-Jan-98",
         26,
         "Female",
         "Un-Married"
        ],
        [
         13,
         "B2B00018",
         "Shubhanshu Paroha",
         "25-May-98",
         26,
         "Male",
         "Un-Married"
        ],
        [
         15,
         "B2B00021",
         "Sandeep Singh Verma",
         "12-Oct-98",
         25,
         "Male ",
         "Un-Married"
        ],
        [
         16,
         "B2B00022",
         "Shiv Singh",
         "25-Apr-97",
         27,
         "Male",
         "Un-Married"
        ],
        [
         17,
         "B2B00023",
         "Sumit Kumar Chaurasia",
         "19-Aug-99",
         24,
         "Male",
         "Un-Married"
        ],
        [
         18,
         "B2B00024",
         "Adarsh Patel",
         "26-Jan-03",
         21,
         "Male",
         "Un-Married"
        ],
        [
         20,
         "B2B00026",
         "Rajneesh Patel",
         "12-Jan-98",
         26,
         "Male",
         "Un-Married"
        ],
        [
         22,
         "B2B00028",
         "Sumit Dwivedi",
         "12-Jul-99",
         25,
         "Male",
         "Un-Married"
        ],
        [
         23,
         "B2B00029",
         "Khusbu Patel",
         "02-Feb-99",
         25,
         "Female",
         "Un-Married"
        ],
        [
         25,
         "B2B00031",
         "Ashish Kumar Sen",
         "03-May-00",
         24,
         "Male ",
         "Un-Married"
        ],
        [
         26,
         "B2B00032",
         "Golu vishwakrma",
         "01-01-1995",
         30,
         "male",
         "married"
        ],
        [
         27,
         "B2B00033",
         "Vipul shukla",
         "30-10-1999",
         25,
         "Male",
         "Un-Married"
        ]
       ],
       "datasetInfos": [],
       "dbfsResultPath": null,
       "isJsonSchema": true,
       "metadata": {},
       "overflow": false,
       "plotOptions": {
        "customPlotOptions": {},
        "displayType": "table",
        "pivotAggregation": null,
        "pivotColumns": null,
        "xColumns": null,
        "yColumns": null
       },
       "removedWidgets": [],
       "schema": [
        {
         "metadata": "{}",
         "name": "S_No",
         "type": "\"integer\""
        },
        {
         "metadata": "{}",
         "name": "Emp_No",
         "type": "\"string\""
        },
        {
         "metadata": "{}",
         "name": "EMPLOYEE_NAME",
         "type": "\"string\""
        },
        {
         "metadata": "{}",
         "name": "DOB",
         "type": "\"string\""
        },
        {
         "metadata": "{}",
         "name": "Age",
         "type": "\"integer\""
        },
        {
         "metadata": "{}",
         "name": "Gender",
         "type": "\"string\""
        },
        {
         "metadata": "{}",
         "name": "Marital_Status",
         "type": "\"string\""
        }
       ],
       "type": "table"
      }
     },
     "output_type": "display_data"
    }
   ],
   "source": [
    "insert_b2b_emp.display()"
   ]
  },
  {
   "cell_type": "markdown",
   "metadata": {
    "application/vnd.databricks.v1+cell": {
     "cellMetadata": {},
     "inputWidgets": {},
     "nuid": "15125c97-21bb-4098-a35e-f88d497f5eae",
     "showTitle": false,
     "tableResultSettingsMap": {},
     "title": ""
    }
   },
   "source": [
    "##   1. approch through the DDL\n",
    "- add a keyword \"USING DELTA\" at the end on DDL query"
   ]
  },
  {
   "cell_type": "code",
   "execution_count": 0,
   "metadata": {
    "application/vnd.databricks.v1+cell": {
     "cellMetadata": {
      "byteLimit": 2048000,
      "implicitDf": true,
      "rowLimit": 10000
     },
     "inputWidgets": {},
     "nuid": "2d0916c2-c9ef-443f-bccd-db411e0d0c8c",
     "showTitle": false,
     "tableResultSettingsMap": {},
     "title": ""
    }
   },
   "outputs": [],
   "source": [
    "%sql\n",
    "CREATE TABLE IF NOT EXISTS b2b_Dev.default.bittwobyte_emp(\n",
    "    S_No INT,\n",
    "    Emp_No STRING,\n",
    "    EMPLOYEE_NAME STRING,\n",
    "    DOB STRING,\n",
    "    Age INT,\n",
    "    Gender STRING,\n",
    "    Marital_Status STRING\n",
    ") USING delta;"
   ]
  },
  {
   "cell_type": "code",
   "execution_count": 0,
   "metadata": {
    "application/vnd.databricks.v1+cell": {
     "cellMetadata": {},
     "inputWidgets": {},
     "nuid": "a8731ae6-0df8-4b12-814d-2dedcf68e241",
     "showTitle": false,
     "tableResultSettingsMap": {},
     "title": ""
    }
   },
   "outputs": [],
   "source": [
    "%sql\n",
    "select * from  b2b_Dev.default.bittwobyte_emp;"
   ]
  },
  {
   "cell_type": "markdown",
   "metadata": {
    "application/vnd.databricks.v1+cell": {
     "cellMetadata": {},
     "inputWidgets": {},
     "nuid": "0051ea45-d2ff-4c3d-ad7a-e34b385e9e92",
     "showTitle": false,
     "tableResultSettingsMap": {},
     "title": ""
    }
   },
   "source": [
    "# 2. approch (insert data into table)\n",
    "- if table is not present then it will create the table into you database schema\n",
    "- if you folow this approch then you don't need to define infraschema and all that\n",
    "\n"
   ]
  },
  {
   "cell_type": "code",
   "execution_count": 0,
   "metadata": {
    "application/vnd.databricks.v1+cell": {
     "cellMetadata": {
      "byteLimit": 2048000,
      "rowLimit": 10000
     },
     "inputWidgets": {},
     "nuid": "7115b80f-0b0b-4e8e-8249-6c03aa77840b",
     "showTitle": false,
     "tableResultSettingsMap": {},
     "title": ""
    }
   },
   "outputs": [],
   "source": [
    "%python\n",
    "# Rename columns to remove invalid characters\n",
    "for col in insert_b2b_emp.columns:\n",
    "    new_col = col.replace(' ', '_').replace(';', '_').replace('{', '_').replace('}', '_') \\\n",
    "                 .replace('(', '_').replace(')', '_').replace('\\n', '_').replace('\\t', '_') \\\n",
    "                 .replace('=', '_')\n",
    "    insert_b2b_emp = insert_b2b_emp.withColumnRenamed(col, new_col)\n",
    "\n",
    "# Write to Delta table\n",
    "insert_b2b_emp.write.format(\"delta\") \\\n",
    "    .option(\"mergeSchema\", \"true\") \\\n",
    "    .mode(\"overwrite\") \\\n",
    "    .saveAsTable(\"b2b_Dev.default.bittwobyte_emp\")"
   ]
  },
  {
   "cell_type": "code",
   "execution_count": 0,
   "metadata": {
    "application/vnd.databricks.v1+cell": {
     "cellMetadata": {},
     "inputWidgets": {},
     "nuid": "2e6415df-a39d-4bf7-ab7f-67b9ee977636",
     "showTitle": false,
     "tableResultSettingsMap": {},
     "title": ""
    }
   },
   "outputs": [],
   "source": [
    "%sql\n",
    "select * from b2b_Dev.default.bittwobyte_emp"
   ]
  }
 ],
 "metadata": {
  "application/vnd.databricks.v1+notebook": {
   "computePreferences": null,
   "dashboards": [],
   "environmentMetadata": {
    "base_environment": "",
    "environment_version": "1"
   },
   "language": "python",
   "notebookMetadata": {
    "mostRecentlyExecutedCommandWithImplicitDF": {
     "commandId": 581562888657987,
     "dataframes": [
      "_sqldf"
     ]
    },
    "pythonIndentUnit": 4
   },
   "notebookName": "how to create delta table with diff approches",
   "widgets": {}
  },
  "language_info": {
   "name": "python"
  }
 },
 "nbformat": 4,
 "nbformat_minor": 0
}