{
 "cells": [
  {
   "cell_type": "code",
   "execution_count": 0,
   "metadata": {
    "application/vnd.databricks.v1+cell": {
     "cellMetadata": {
      "byteLimit": 2048000,
      "rowLimit": 10000
     },
     "inputWidgets": {},
     "nuid": "3a2d4831-ce9a-4b2b-aabf-b929666177d9",
     "showTitle": false,
     "tableResultSettingsMap": {},
     "title": ""
    }
   },
   "outputs": [],
   "source": [
    "df = (spark.read.format(\"csv\")\n",
    ".option(\"path\", \"/FileStore/tables/B2B_EMPLOYEE-1.csv\")\n",
    ".option(\"header\", \"true\")\n",
    ".option(\"inferSchema\", \"true\").load()\n",
    ")\n"
   ]
  },
  {
   "cell_type": "code",
   "execution_count": 0,
   "metadata": {
    "application/vnd.databricks.v1+cell": {
     "cellMetadata": {
      "byteLimit": 2048000,
      "rowLimit": 10000
     },
     "inputWidgets": {},
     "nuid": "95660e1e-6d09-4937-8842-8841400a2dcd",
     "showTitle": false,
     "tableResultSettingsMap": {},
     "title": ""
    }
   },
   "outputs": [
    {
     "output_type": "stream",
     "name": "stdout",
     "output_type": "stream",
     "text": [
      "+----+--------+--------------------+---------+---+------+--------------+\n|S No|Emp_Code|       EMPLOYEE_NAME|      DOB|Age|Gender|Marital_Status|\n+----+--------+--------------------+---------+---+------+--------------+\n|   1|B2B00002|         Vijay Patel|10-Mar-91| 33|  Male|    Un-Married|\n|   2|B2B00005|   Vinay Kumar Patel|11-Nov-99| 24|  Male|    Un-Married|\n|   5|B2B00008|         Nisha Patel|21-Jun-00| 24|Female|    Un-Married|\n|   6|B2B00009|       Deepesh Patel|20-Feb-96| 28| Male |    Un-Married|\n|   7|B2B00010|  Satish Kumar Patel|30-Jun-92| 32|  Male|    Un-Married|\n|   8|B2B00011|       Preeti Tiwari|05-Jun-99| 25|Female|    Un-Married|\n|  11|B2B00014|        Piyush Singh|24-Jun-97| 27| Male |    Un-Married|\n|  12|B2B00015|     Pratibha Namdeo|08-Jan-98| 26|Female|    Un-Married|\n|  13|B2B00018|   Shubhanshu Paroha|25-May-98| 26|  Male|    Un-Married|\n|  15|B2B00021| Sandeep Singh Verma|12-Oct-98| 25| Male |    Un-Married|\n|  16|B2B00022|          Shiv Singh|25-Apr-97| 27|  Male|    Un-Married|\n|  17|B2B00023|Sumit Kumar Chaur...|19-Aug-99| 24|  Male|    Un-Married|\n|  18|B2B00024|        Adarsh Patel|26-Jan-03| 21|  Male|    Un-Married|\n|  20|B2B00026|      Rajneesh Patel|12-Jan-98| 26|  Male|    Un-Married|\n|  22|B2B00028|       Sumit Dwivedi|12-Jul-99| 25|  Male|    Un-Married|\n|  23|B2B00029|        Khusbu Patel|02-Feb-99| 25|Female|    Un-Married|\n|  25|B2B00031|    Ashish Kumar Sen|03-May-00| 24| Male |    Un-Married|\n+----+--------+--------------------+---------+---+------+--------------+\n\n"
     ]
    }
   ],
   "source": [
    "df.show()"
   ]
  },
  {
   "cell_type": "markdown",
   "metadata": {
    "application/vnd.databricks.v1+cell": {
     "cellMetadata": {},
     "inputWidgets": {},
     "nuid": "59f8b5a3-c79c-40c7-8bca-dc49f7e132e9",
     "showTitle": false,
     "tableResultSettingsMap": {},
     "title": ""
    }
   },
   "source": [
    "### sort the data based on employee name ASC order"
   ]
  },
  {
   "cell_type": "code",
   "execution_count": 0,
   "metadata": {
    "application/vnd.databricks.v1+cell": {
     "cellMetadata": {
      "byteLimit": 2048000,
      "rowLimit": 10000
     },
     "inputWidgets": {},
     "nuid": "a37554e3-bb31-4d29-8255-9ac822923a63",
     "showTitle": false,
     "tableResultSettingsMap": {},
     "title": ""
    }
   },
   "outputs": [
    {
     "output_type": "stream",
     "name": "stdout",
     "output_type": "stream",
     "text": [
      "+----+--------+--------------------+---------+---+------+--------------+\n|S No|Emp_Code|       EMPLOYEE_NAME|      DOB|Age|Gender|Marital_Status|\n+----+--------+--------------------+---------+---+------+--------------+\n|  18|B2B00024|        Adarsh Patel|26-Jan-03| 21|  Male|    Un-Married|\n|  25|B2B00031|    Ashish Kumar Sen|03-May-00| 24| Male |    Un-Married|\n|   6|B2B00009|       Deepesh Patel|20-Feb-96| 28| Male |    Un-Married|\n|  23|B2B00029|        Khusbu Patel|02-Feb-99| 25|Female|    Un-Married|\n|   5|B2B00008|         Nisha Patel|21-Jun-00| 24|Female|    Un-Married|\n|  11|B2B00014|        Piyush Singh|24-Jun-97| 27| Male |    Un-Married|\n|  12|B2B00015|     Pratibha Namdeo|08-Jan-98| 26|Female|    Un-Married|\n|   8|B2B00011|       Preeti Tiwari|05-Jun-99| 25|Female|    Un-Married|\n|  20|B2B00026|      Rajneesh Patel|12-Jan-98| 26|  Male|    Un-Married|\n|  15|B2B00021| Sandeep Singh Verma|12-Oct-98| 25| Male |    Un-Married|\n|   7|B2B00010|  Satish Kumar Patel|30-Jun-92| 32|  Male|    Un-Married|\n|  16|B2B00022|          Shiv Singh|25-Apr-97| 27|  Male|    Un-Married|\n|  13|B2B00018|   Shubhanshu Paroha|25-May-98| 26|  Male|    Un-Married|\n|  22|B2B00028|       Sumit Dwivedi|12-Jul-99| 25|  Male|    Un-Married|\n|  17|B2B00023|Sumit Kumar Chaur...|19-Aug-99| 24|  Male|    Un-Married|\n|   1|B2B00002|         Vijay Patel|10-Mar-91| 33|  Male|    Un-Married|\n|   2|B2B00005|   Vinay Kumar Patel|11-Nov-99| 24|  Male|    Un-Married|\n+----+--------+--------------------+---------+---+------+--------------+\n\n"
     ]
    }
   ],
   "source": [
    "#sort based on employee id\n",
    "df.sort(\"employee_name\").show()"
   ]
  },
  {
   "cell_type": "markdown",
   "metadata": {
    "application/vnd.databricks.v1+cell": {
     "cellMetadata": {},
     "inputWidgets": {},
     "nuid": "af02768f-61ba-466f-865d-ca23528ee581",
     "showTitle": false,
     "tableResultSettingsMap": {},
     "title": ""
    }
   },
   "source": [
    "### sort based on employee_name column desc"
   ]
  },
  {
   "cell_type": "code",
   "execution_count": 0,
   "metadata": {
    "application/vnd.databricks.v1+cell": {
     "cellMetadata": {
      "byteLimit": 2048000,
      "rowLimit": 10000
     },
     "inputWidgets": {},
     "nuid": "4c6e0d95-e496-4a97-8353-af0d242578af",
     "showTitle": false,
     "tableResultSettingsMap": {},
     "title": ""
    }
   },
   "outputs": [
    {
     "output_type": "stream",
     "name": "stdout",
     "output_type": "stream",
     "text": [
      "+----+--------+--------------------+---------+---+------+--------------+\n|S No|Emp_Code|       EMPLOYEE_NAME|      DOB|Age|Gender|Marital_Status|\n+----+--------+--------------------+---------+---+------+--------------+\n|   2|B2B00005|   Vinay Kumar Patel|11-Nov-99| 24|  Male|    Un-Married|\n|   1|B2B00002|         Vijay Patel|10-Mar-91| 33|  Male|    Un-Married|\n|  17|B2B00023|Sumit Kumar Chaur...|19-Aug-99| 24|  Male|    Un-Married|\n|  22|B2B00028|       Sumit Dwivedi|12-Jul-99| 25|  Male|    Un-Married|\n|  13|B2B00018|   Shubhanshu Paroha|25-May-98| 26|  Male|    Un-Married|\n|  16|B2B00022|          Shiv Singh|25-Apr-97| 27|  Male|    Un-Married|\n|   7|B2B00010|  Satish Kumar Patel|30-Jun-92| 32|  Male|    Un-Married|\n|  15|B2B00021| Sandeep Singh Verma|12-Oct-98| 25| Male |    Un-Married|\n|  20|B2B00026|      Rajneesh Patel|12-Jan-98| 26|  Male|    Un-Married|\n|   8|B2B00011|       Preeti Tiwari|05-Jun-99| 25|Female|    Un-Married|\n|  12|B2B00015|     Pratibha Namdeo|08-Jan-98| 26|Female|    Un-Married|\n|  11|B2B00014|        Piyush Singh|24-Jun-97| 27| Male |    Un-Married|\n|   5|B2B00008|         Nisha Patel|21-Jun-00| 24|Female|    Un-Married|\n|  23|B2B00029|        Khusbu Patel|02-Feb-99| 25|Female|    Un-Married|\n|   6|B2B00009|       Deepesh Patel|20-Feb-96| 28| Male |    Un-Married|\n|  25|B2B00031|    Ashish Kumar Sen|03-May-00| 24| Male |    Un-Married|\n|  18|B2B00024|        Adarsh Patel|26-Jan-03| 21|  Male|    Un-Married|\n+----+--------+--------------------+---------+---+------+--------------+\n\n"
     ]
    }
   ],
   "source": [
    "df.sort(\"employee_name\", ascending=False).show()"
   ]
  },
  {
   "cell_type": "code",
   "execution_count": 0,
   "metadata": {
    "application/vnd.databricks.v1+cell": {
     "cellMetadata": {
      "byteLimit": 2048000,
      "rowLimit": 10000
     },
     "inputWidgets": {},
     "nuid": "8a2cc42c-a17e-4b4d-bf4c-95d36df81476",
     "showTitle": false,
     "tableResultSettingsMap": {},
     "title": ""
    }
   },
   "outputs": [],
   "source": []
  },
  {
   "cell_type": "code",
   "execution_count": 0,
   "metadata": {
    "application/vnd.databricks.v1+cell": {
     "cellMetadata": {},
     "inputWidgets": {},
     "nuid": "bddd5adc-441e-4ff3-b73d-80a9a8063f11",
     "showTitle": false,
     "tableResultSettingsMap": {},
     "title": ""
    }
   },
   "outputs": [],
   "source": []
  }
 ],
 "metadata": {
  "application/vnd.databricks.v1+notebook": {
   "computePreferences": null,
   "dashboards": [],
   "environmentMetadata": null,
   "language": "python",
   "notebookMetadata": {
    "pythonIndentUnit": 4
   },
   "notebookName": "how to sort the data",
   "widgets": {}
  },
  "language_info": {
   "name": "python"
  }
 },
 "nbformat": 4,
 "nbformat_minor": 0
}