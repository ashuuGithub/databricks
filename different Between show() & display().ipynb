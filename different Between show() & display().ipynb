{
 "cells": [
  {
   "cell_type": "code",
   "execution_count": 0,
   "metadata": {
    "application/vnd.databricks.v1+cell": {
     "cellMetadata": {
      "byteLimit": 2048000,
      "rowLimit": 10000
     },
     "inputWidgets": {},
     "nuid": "9d0e6934-497b-4737-9f84-4c6851bad83a",
     "showTitle": false,
     "tableResultSettingsMap": {},
     "title": ""
    }
   },
   "outputs": [],
   "source": [
    "data = [('Ajay', 'Rewa', 'madhya pradesh',1234), ( 'Vijay', 'Satna', 'Uttara pradesh',2232), ( 'Deepesh', 'Rewa', 'Jabalpur',9879), ( 'Piyush', 'Rewa', 'MP',8890), ( 'vipul', 'Rewa', 'Hydarabaad',7788)]\n",
    " \n",
    "columns = ['Name', 'city', 'state','mob_no']\n",
    "\n",
    "df = spark.createDataFrame(data = data, schema = columns)\n"
   ]
  },
  {
   "cell_type": "markdown",
   "metadata": {
    "application/vnd.databricks.v1+cell": {
     "cellMetadata": {},
     "inputWidgets": {},
     "nuid": "5201f80d-49f4-48e4-8bca-da371cff57f1",
     "showTitle": false,
     "tableResultSettingsMap": {},
     "title": ""
    }
   },
   "source": [
    "# show()\n",
    "1 - Displays a simple tabular view of the data              \n",
    "2 - Primarily used in  Spark DataFrame                                                                 \n",
    "3- by Default top(20)record display\n"
   ]
  },
  {
   "cell_type": "code",
   "execution_count": 0,
   "metadata": {
    "application/vnd.databricks.v1+cell": {
     "cellMetadata": {
      "byteLimit": 2048000,
      "rowLimit": 10000
     },
     "inputWidgets": {},
     "nuid": "5d832444-ca73-490d-9461-f695a8c59ef7",
     "showTitle": false,
     "tableResultSettingsMap": {},
     "title": ""
    }
   },
   "outputs": [
    {
     "output_type": "stream",
     "name": "stdout",
     "output_type": "stream",
     "text": [
      "+-------+-----+--------------+------+\n|   Name| city|         state|mob_no|\n+-------+-----+--------------+------+\n|   Ajay| Rewa|madhya pradesh|  1234|\n|  Vijay|Satna|Uttara pradesh|  2232|\n|Deepesh| Rewa|      Jabalpur|  9879|\n| Piyush| Rewa|            MP|  8890|\n|  vipul| Rewa|    Hydarabaad|  7788|\n+-------+-----+--------------+------+\n\n"
     ]
    }
   ],
   "source": [
    "df.show()"
   ]
  },
  {
   "cell_type": "markdown",
   "metadata": {
    "application/vnd.databricks.v1+cell": {
     "cellMetadata": {},
     "inputWidgets": {},
     "nuid": "9cb9686a-f994-4e0a-9de4-eaa9ac3ef07d",
     "showTitle": false,
     "tableResultSettingsMap": {},
     "title": ""
    }
   },
   "source": [
    "# display()\n",
    "1 - Renders the data as a scrollable table in the notebook            \n",
    "2 - Used for more comprehensive exploration and visualization of data within Databricks notebooks                                               \n",
    "3- entire data will display                                                 \n",
    "4- we can apply filters also.\n"
   ]
  },
  {
   "cell_type": "code",
   "execution_count": 0,
   "metadata": {
    "application/vnd.databricks.v1+cell": {
     "cellMetadata": {
      "byteLimit": 2048000,
      "rowLimit": 10000
     },
     "inputWidgets": {},
     "nuid": "7c11a923-2baa-4885-a47f-f29519d023c3",
     "showTitle": false,
     "tableResultSettingsMap": {},
     "title": ""
    }
   },
   "outputs": [
    {
     "output_type": "display_data",
     "data": {
      "text/html": [
       "<style scoped>\n",
       "  .table-result-container {\n",
       "    max-height: 300px;\n",
       "    overflow: auto;\n",
       "  }\n",
       "  table, th, td {\n",
       "    border: 1px solid black;\n",
       "    border-collapse: collapse;\n",
       "  }\n",
       "  th, td {\n",
       "    padding: 5px;\n",
       "  }\n",
       "  th {\n",
       "    text-align: left;\n",
       "  }\n",
       "</style><div class='table-result-container'><table class='table-result'><thead style='background-color: white'><tr><th>Name</th><th>city</th><th>state</th><th>mob_no</th></tr></thead><tbody><tr><td>Ajay</td><td>Rewa</td><td>madhya pradesh</td><td>1234</td></tr><tr><td>Vijay</td><td>Satna</td><td>Uttara pradesh</td><td>2232</td></tr><tr><td>Deepesh</td><td>Rewa</td><td>Jabalpur</td><td>9879</td></tr><tr><td>Piyush</td><td>Rewa</td><td>MP</td><td>8890</td></tr><tr><td>vipul</td><td>Rewa</td><td>Hydarabaad</td><td>7788</td></tr></tbody></table></div>"
      ]
     },
     "metadata": {
      "application/vnd.databricks.v1+output": {
       "addedWidgets": {},
       "aggData": [],
       "aggError": "",
       "aggOverflow": false,
       "aggSchema": [],
       "aggSeriesLimitReached": false,
       "aggType": "",
       "arguments": {},
       "columnCustomDisplayInfos": {},
       "data": [
        [
         "Ajay",
         "Rewa",
         "madhya pradesh",
         1234
        ],
        [
         "Vijay",
         "Satna",
         "Uttara pradesh",
         2232
        ],
        [
         "Deepesh",
         "Rewa",
         "Jabalpur",
         9879
        ],
        [
         "Piyush",
         "Rewa",
         "MP",
         8890
        ],
        [
         "vipul",
         "Rewa",
         "Hydarabaad",
         7788
        ]
       ],
       "datasetInfos": [],
       "dbfsResultPath": null,
       "isJsonSchema": true,
       "metadata": {},
       "overflow": false,
       "plotOptions": {
        "customPlotOptions": {},
        "displayType": "table",
        "pivotAggregation": null,
        "pivotColumns": null,
        "xColumns": null,
        "yColumns": null
       },
       "removedWidgets": [],
       "schema": [
        {
         "metadata": "{}",
         "name": "Name",
         "type": "\"string\""
        },
        {
         "metadata": "{}",
         "name": "city",
         "type": "\"string\""
        },
        {
         "metadata": "{}",
         "name": "state",
         "type": "\"string\""
        },
        {
         "metadata": "{}",
         "name": "mob_no",
         "type": "\"long\""
        }
       ],
       "type": "table"
      }
     },
     "output_type": "display_data"
    }
   ],
   "source": [
    "df.display()\n"
   ]
  },
  {
   "cell_type": "markdown",
   "metadata": {
    "application/vnd.databricks.v1+cell": {
     "cellMetadata": {},
     "inputWidgets": {},
     "nuid": "56708589-73ba-46f1-84e4-92c68e8cfd64",
     "showTitle": false,
     "tableResultSettingsMap": {},
     "title": ""
    }
   },
   "source": []
  },
  {
   "cell_type": "markdown",
   "metadata": {
    "application/vnd.databricks.v1+cell": {
     "cellMetadata": {},
     "inputWidgets": {},
     "nuid": "1a271a40-2663-4a71-b27c-353d21edfce3",
     "showTitle": false,
     "tableResultSettingsMap": {},
     "title": ""
    }
   },
   "source": []
  }
 ],
 "metadata": {
  "application/vnd.databricks.v1+notebook": {
   "computePreferences": null,
   "dashboards": [],
   "environmentMetadata": {
    "base_environment": "",
    "environment_version": "1"
   },
   "language": "python",
   "notebookMetadata": {
    "pythonIndentUnit": 4
   },
   "notebookName": "different Between show() & display()",
   "widgets": {}
  },
  "language_info": {
   "name": "python"
  }
 },
 "nbformat": 4,
 "nbformat_minor": 0
}