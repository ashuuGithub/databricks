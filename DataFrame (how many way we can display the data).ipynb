{
 "cells": [
  {
   "cell_type": "markdown",
   "metadata": {
    "application/vnd.databricks.v1+cell": {
     "cellMetadata": {
      "byteLimit": 2048000,
      "rowLimit": 10000
     },
     "inputWidgets": {},
     "nuid": "ac12c46d-d714-4ba8-8d90-2d16dc2a7315",
     "showTitle": false,
     "tableResultSettingsMap": {},
     "title": ""
    }
   },
   "source": [
    "DATAFRAME WITH SELECTIVE COLUMNS \n",
    "- selective single & multiple column   \n",
    "- using array format to display the content of DataFrame \n",
    "- Using dataframe column name   \n",
    "- using all select * columns (**in case of dataFrame only**) \n",
    "- select columns by index              "
   ]
  },
  {
   "cell_type": "code",
   "execution_count": 0,
   "metadata": {
    "application/vnd.databricks.v1+cell": {
     "cellMetadata": {
      "byteLimit": 2048000,
      "rowLimit": 10000
     },
     "inputWidgets": {},
     "nuid": "793fc2f4-1fec-427e-8469-49fa7c26dfd8",
     "showTitle": false,
     "tableResultSettingsMap": {},
     "title": ""
    }
   },
   "outputs": [
    {
     "output_type": "stream",
     "name": "stdout",
     "output_type": "stream",
     "text": [
      "+---+---------+-------+\n|ID |city     |country|\n+---+---------+-------+\n|1  |Rewa     |India  |\n|2  |Mumbai   |India  |\n|3  |Bangalore|India  |\n|4  |Delhi    |India  |\n|5  |Chennai  |India  |\n|6  |Kolkata  |India  |\n|7  |Mumbai   |India  |\n|8  |Bangalore|India  |\n|9  |Delhi    |India  |\n+---+---------+-------+\n\n"
     ]
    }
   ],
   "source": [
    "data = [(1, 'Rewa', 'India'), (2, 'Mumbai', 'India'), (3, 'Bangalore', 'India'), (4, 'Delhi', 'India'), (5, 'Chennai', 'India'), (6, 'Kolkata', 'India'), (7, 'Mumbai', 'India'), (8, 'Bangalore', 'India'), (9, 'Delhi', 'India')]\n",
    " \n",
    "columns = ['ID', 'city', 'country']\n",
    "\n",
    "df = spark.createDataFrame(data = data, schema = columns)\n",
    "df.show(truncate =False)"
   ]
  },
  {
   "cell_type": "markdown",
   "metadata": {
    "application/vnd.databricks.v1+cell": {
     "cellMetadata": {
      "byteLimit": 2048000,
      "rowLimit": 10000
     },
     "inputWidgets": {},
     "nuid": "941bd276-27d8-465b-9e79-65eb3e06f9be",
     "showTitle": false,
     "tableResultSettingsMap": {},
     "title": ""
    }
   },
   "source": [
    "SELECT SIGNLE & MULTIPLE COLUMNS"
   ]
  },
  {
   "cell_type": "code",
   "execution_count": 0,
   "metadata": {
    "application/vnd.databricks.v1+cell": {
     "cellMetadata": {
      "byteLimit": 2048000,
      "rowLimit": 10000
     },
     "inputWidgets": {},
     "nuid": "65eedb6a-5a7b-4525-b6eb-623618ff7a52",
     "showTitle": false,
     "tableResultSettingsMap": {},
     "title": ""
    }
   },
   "outputs": [
    {
     "output_type": "stream",
     "name": "stdout",
     "output_type": "stream",
     "text": [
      "+---+\n| ID|\n+---+\n|  1|\n|  2|\n|  3|\n|  4|\n|  5|\n|  6|\n|  7|\n|  8|\n|  9|\n+---+\n\n"
     ]
    }
   ],
   "source": [
    "df.select('ID').show()"
   ]
  },
  {
   "cell_type": "code",
   "execution_count": 0,
   "metadata": {
    "application/vnd.databricks.v1+cell": {
     "cellMetadata": {
      "byteLimit": 2048000,
      "rowLimit": 10000
     },
     "inputWidgets": {},
     "nuid": "7ee2a9da-bc68-46f9-b5f6-cbf36d62b8f5",
     "showTitle": false,
     "tableResultSettingsMap": {},
     "title": ""
    }
   },
   "outputs": [
    {
     "output_type": "stream",
     "name": "stdout",
     "output_type": "stream",
     "text": [
      "+---+---------+\n| ID|     city|\n+---+---------+\n|  1|     Rewa|\n|  2|   Mumbai|\n|  3|Bangalore|\n|  4|    Delhi|\n|  5|  Chennai|\n|  6|  Kolkata|\n|  7|   Mumbai|\n|  8|Bangalore|\n|  9|    Delhi|\n+---+---------+\n\n"
     ]
    }
   ],
   "source": [
    "df.select('ID', 'city').show()"
   ]
  },
  {
   "cell_type": "code",
   "execution_count": 0,
   "metadata": {
    "application/vnd.databricks.v1+cell": {
     "cellMetadata": {
      "byteLimit": 2048000,
      "rowLimit": 10000
     },
     "inputWidgets": {},
     "nuid": "d309a187-bef7-4e09-b794-66e95efbec7e",
     "showTitle": false,
     "tableResultSettingsMap": {},
     "title": ""
    }
   },
   "outputs": [
    {
     "output_type": "stream",
     "name": "stdout",
     "output_type": "stream",
     "text": [
      "+---+---------+-------+\n| ID|     city|country|\n+---+---------+-------+\n|  1|     Rewa|  India|\n|  2|   Mumbai|  India|\n|  3|Bangalore|  India|\n|  4|    Delhi|  India|\n|  5|  Chennai|  India|\n|  6|  Kolkata|  India|\n|  7|   Mumbai|  India|\n|  8|Bangalore|  India|\n|  9|    Delhi|  India|\n+---+---------+-------+\n\n"
     ]
    }
   ],
   "source": [
    "df.select('ID', 'city', 'country').show()\n",
    "\n"
   ]
  },
  {
   "cell_type": "markdown",
   "metadata": {
    "application/vnd.databricks.v1+cell": {
     "cellMetadata": {
      "byteLimit": 2048000,
      "rowLimit": 10000
     },
     "inputWidgets": {},
     "nuid": "15c891e9-873c-404b-a1b0-3577e75c14d2",
     "showTitle": false,
     "tableResultSettingsMap": {},
     "title": ""
    }
   },
   "source": [
    "we can use 2 method to display the result 1- show() , 2- display()"
   ]
  },
  {
   "cell_type": "code",
   "execution_count": 0,
   "metadata": {
    "application/vnd.databricks.v1+cell": {
     "cellMetadata": {
      "byteLimit": 2048000,
      "rowLimit": 10000
     },
     "inputWidgets": {},
     "nuid": "83f3c645-f30c-4d29-8ff9-3871b3ac4fbc",
     "showTitle": false,
     "tableResultSettingsMap": {},
     "title": ""
    }
   },
   "outputs": [
    {
     "output_type": "stream",
     "name": "stdout",
     "output_type": "stream",
     "text": [
      "+---+---------+-------+\n| ID|     city|country|\n+---+---------+-------+\n|  1|     Rewa|  India|\n|  2|   Mumbai|  India|\n|  3|Bangalore|  India|\n|  4|    Delhi|  India|\n|  5|  Chennai|  India|\n|  6|  Kolkata|  India|\n|  7|   Mumbai|  India|\n|  8|Bangalore|  India|\n|  9|    Delhi|  India|\n+---+---------+-------+\n\n"
     ]
    }
   ],
   "source": [
    "df.show()"
   ]
  },
  {
   "cell_type": "code",
   "execution_count": 0,
   "metadata": {
    "application/vnd.databricks.v1+cell": {
     "cellMetadata": {
      "byteLimit": 2048000,
      "rowLimit": 10000
     },
     "inputWidgets": {},
     "nuid": "3d605318-1f9e-4f9a-87c6-eb1516ffdedd",
     "showTitle": false,
     "tableResultSettingsMap": {},
     "title": ""
    }
   },
   "outputs": [
    {
     "output_type": "display_data",
     "data": {
      "text/html": [
       "<style scoped>\n",
       "  .table-result-container {\n",
       "    max-height: 300px;\n",
       "    overflow: auto;\n",
       "  }\n",
       "  table, th, td {\n",
       "    border: 1px solid black;\n",
       "    border-collapse: collapse;\n",
       "  }\n",
       "  th, td {\n",
       "    padding: 5px;\n",
       "  }\n",
       "  th {\n",
       "    text-align: left;\n",
       "  }\n",
       "</style><div class='table-result-container'><table class='table-result'><thead style='background-color: white'><tr><th>ID</th><th>city</th><th>country</th></tr></thead><tbody><tr><td>1</td><td>Rewa</td><td>India</td></tr><tr><td>2</td><td>Mumbai</td><td>India</td></tr><tr><td>3</td><td>Bangalore</td><td>India</td></tr><tr><td>4</td><td>Delhi</td><td>India</td></tr><tr><td>5</td><td>Chennai</td><td>India</td></tr><tr><td>6</td><td>Kolkata</td><td>India</td></tr><tr><td>7</td><td>Mumbai</td><td>India</td></tr><tr><td>8</td><td>Bangalore</td><td>India</td></tr><tr><td>9</td><td>Delhi</td><td>India</td></tr></tbody></table></div>"
      ]
     },
     "metadata": {
      "application/vnd.databricks.v1+output": {
       "addedWidgets": {},
       "aggData": [],
       "aggError": "",
       "aggOverflow": false,
       "aggSchema": [],
       "aggSeriesLimitReached": false,
       "aggType": "",
       "arguments": {},
       "columnCustomDisplayInfos": {},
       "data": [
        [
         1,
         "Rewa",
         "India"
        ],
        [
         2,
         "Mumbai",
         "India"
        ],
        [
         3,
         "Bangalore",
         "India"
        ],
        [
         4,
         "Delhi",
         "India"
        ],
        [
         5,
         "Chennai",
         "India"
        ],
        [
         6,
         "Kolkata",
         "India"
        ],
        [
         7,
         "Mumbai",
         "India"
        ],
        [
         8,
         "Bangalore",
         "India"
        ],
        [
         9,
         "Delhi",
         "India"
        ]
       ],
       "datasetInfos": [],
       "dbfsResultPath": null,
       "isJsonSchema": true,
       "metadata": {},
       "overflow": false,
       "plotOptions": {
        "customPlotOptions": {},
        "displayType": "table",
        "pivotAggregation": null,
        "pivotColumns": null,
        "xColumns": null,
        "yColumns": null
       },
       "removedWidgets": [],
       "schema": [
        {
         "metadata": "{}",
         "name": "ID",
         "type": "\"long\""
        },
        {
         "metadata": "{}",
         "name": "city",
         "type": "\"string\""
        },
        {
         "metadata": "{}",
         "name": "country",
         "type": "\"string\""
        }
       ],
       "type": "table"
      }
     },
     "output_type": "display_data"
    }
   ],
   "source": [
    "df.display()"
   ]
  },
  {
   "cell_type": "markdown",
   "metadata": {
    "application/vnd.databricks.v1+cell": {
     "cellMetadata": {
      "byteLimit": 2048000,
      "rowLimit": 10000
     },
     "inputWidgets": {},
     "nuid": "322db755-e465-4e22-b25d-379d412b39b6",
     "showTitle": false,
     "tableResultSettingsMap": {},
     "title": ""
    }
   },
   "source": [
    "using array format to display the content of DataFrame\n"
   ]
  },
  {
   "cell_type": "code",
   "execution_count": 0,
   "metadata": {
    "application/vnd.databricks.v1+cell": {
     "cellMetadata": {
      "byteLimit": 2048000,
      "rowLimit": 10000
     },
     "inputWidgets": {},
     "nuid": "d5753a67-70c2-4e4b-b5a8-f4e862e0cd54",
     "showTitle": false,
     "tableResultSettingsMap": {},
     "title": ""
    }
   },
   "outputs": [
    {
     "output_type": "display_data",
     "data": {
      "text/html": [
       "<style scoped>\n",
       "  .table-result-container {\n",
       "    max-height: 300px;\n",
       "    overflow: auto;\n",
       "  }\n",
       "  table, th, td {\n",
       "    border: 1px solid black;\n",
       "    border-collapse: collapse;\n",
       "  }\n",
       "  th, td {\n",
       "    padding: 5px;\n",
       "  }\n",
       "  th {\n",
       "    text-align: left;\n",
       "  }\n",
       "</style><div class='table-result-container'><table class='table-result'><thead style='background-color: white'><tr><th>ID</th><th>city</th></tr></thead><tbody><tr><td>1</td><td>Rewa</td></tr><tr><td>2</td><td>Mumbai</td></tr><tr><td>3</td><td>Bangalore</td></tr><tr><td>4</td><td>Delhi</td></tr><tr><td>5</td><td>Chennai</td></tr><tr><td>6</td><td>Kolkata</td></tr><tr><td>7</td><td>Mumbai</td></tr><tr><td>8</td><td>Bangalore</td></tr><tr><td>9</td><td>Delhi</td></tr></tbody></table></div>"
      ]
     },
     "metadata": {
      "application/vnd.databricks.v1+output": {
       "addedWidgets": {},
       "aggData": [],
       "aggError": "",
       "aggOverflow": false,
       "aggSchema": [],
       "aggSeriesLimitReached": false,
       "aggType": "",
       "arguments": {},
       "columnCustomDisplayInfos": {},
       "data": [
        [
         1,
         "Rewa"
        ],
        [
         2,
         "Mumbai"
        ],
        [
         3,
         "Bangalore"
        ],
        [
         4,
         "Delhi"
        ],
        [
         5,
         "Chennai"
        ],
        [
         6,
         "Kolkata"
        ],
        [
         7,
         "Mumbai"
        ],
        [
         8,
         "Bangalore"
        ],
        [
         9,
         "Delhi"
        ]
       ],
       "datasetInfos": [],
       "dbfsResultPath": null,
       "isJsonSchema": true,
       "metadata": {},
       "overflow": false,
       "plotOptions": {
        "customPlotOptions": {},
        "displayType": "table",
        "pivotAggregation": null,
        "pivotColumns": null,
        "xColumns": null,
        "yColumns": null
       },
       "removedWidgets": [],
       "schema": [
        {
         "metadata": "{}",
         "name": "ID",
         "type": "\"long\""
        },
        {
         "metadata": "{}",
         "name": "city",
         "type": "\"string\""
        }
       ],
       "type": "table"
      }
     },
     "output_type": "display_data"
    }
   ],
   "source": [
    "df.select(df['ID'], df['city']).display()"
   ]
  },
  {
   "cell_type": "code",
   "execution_count": 0,
   "metadata": {
    "application/vnd.databricks.v1+cell": {
     "cellMetadata": {
      "byteLimit": 2048000,
      "rowLimit": 10000
     },
     "inputWidgets": {},
     "nuid": "d61a482e-2739-4563-b16b-02abb2d20c65",
     "showTitle": false,
     "tableResultSettingsMap": {},
     "title": ""
    }
   },
   "outputs": [
    {
     "output_type": "display_data",
     "data": {
      "text/html": [
       "<style scoped>\n",
       "  .table-result-container {\n",
       "    max-height: 300px;\n",
       "    overflow: auto;\n",
       "  }\n",
       "  table, th, td {\n",
       "    border: 1px solid black;\n",
       "    border-collapse: collapse;\n",
       "  }\n",
       "  th, td {\n",
       "    padding: 5px;\n",
       "  }\n",
       "  th {\n",
       "    text-align: left;\n",
       "  }\n",
       "</style><div class='table-result-container'><table class='table-result'><thead style='background-color: white'><tr><th>ID</th><th>city</th><th>country</th></tr></thead><tbody><tr><td>1</td><td>Rewa</td><td>India</td></tr><tr><td>2</td><td>Mumbai</td><td>India</td></tr><tr><td>3</td><td>Bangalore</td><td>India</td></tr><tr><td>4</td><td>Delhi</td><td>India</td></tr><tr><td>5</td><td>Chennai</td><td>India</td></tr><tr><td>6</td><td>Kolkata</td><td>India</td></tr><tr><td>7</td><td>Mumbai</td><td>India</td></tr><tr><td>8</td><td>Bangalore</td><td>India</td></tr><tr><td>9</td><td>Delhi</td><td>India</td></tr></tbody></table></div>"
      ]
     },
     "metadata": {
      "application/vnd.databricks.v1+output": {
       "addedWidgets": {},
       "aggData": [],
       "aggError": "",
       "aggOverflow": false,
       "aggSchema": [],
       "aggSeriesLimitReached": false,
       "aggType": "",
       "arguments": {},
       "columnCustomDisplayInfos": {},
       "data": [
        [
         1,
         "Rewa",
         "India"
        ],
        [
         2,
         "Mumbai",
         "India"
        ],
        [
         3,
         "Bangalore",
         "India"
        ],
        [
         4,
         "Delhi",
         "India"
        ],
        [
         5,
         "Chennai",
         "India"
        ],
        [
         6,
         "Kolkata",
         "India"
        ],
        [
         7,
         "Mumbai",
         "India"
        ],
        [
         8,
         "Bangalore",
         "India"
        ],
        [
         9,
         "Delhi",
         "India"
        ]
       ],
       "datasetInfos": [],
       "dbfsResultPath": null,
       "isJsonSchema": true,
       "metadata": {},
       "overflow": false,
       "plotOptions": {
        "customPlotOptions": {},
        "displayType": "table",
        "pivotAggregation": null,
        "pivotColumns": null,
        "xColumns": null,
        "yColumns": null
       },
       "removedWidgets": [],
       "schema": [
        {
         "metadata": "{}",
         "name": "ID",
         "type": "\"long\""
        },
        {
         "metadata": "{}",
         "name": "city",
         "type": "\"string\""
        },
        {
         "metadata": "{}",
         "name": "country",
         "type": "\"string\""
        }
       ],
       "type": "table"
      }
     },
     "output_type": "display_data"
    }
   ],
   "source": [
    "df.select(df['ID'], df['city']).display()"
   ]
  },
  {
   "cell_type": "code",
   "execution_count": 0,
   "metadata": {
    "application/vnd.databricks.v1+cell": {
     "cellMetadata": {
      "byteLimit": 2048000,
      "rowLimit": 10000
     },
     "inputWidgets": {},
     "nuid": "03fe6e5d-317e-4563-8ce7-98f96a7ea816",
     "showTitle": false,
     "tableResultSettingsMap": {},
     "title": ""
    }
   },
   "outputs": [
    {
     "output_type": "stream",
     "name": "stdout",
     "output_type": "stream",
     "text": [
      "+---+---------+-------+\n| ID|     city|country|\n+---+---------+-------+\n|  1|     Rewa|  India|\n|  2|   Mumbai|  India|\n|  3|Bangalore|  India|\n|  4|    Delhi|  India|\n|  5|  Chennai|  India|\n|  6|  Kolkata|  India|\n|  7|   Mumbai|  India|\n|  8|Bangalore|  India|\n|  9|    Delhi|  India|\n+---+---------+-------+\n\n"
     ]
    },
    {
     "output_type": "display_data",
     "data": {
      "text/html": [
       "<style scoped>\n",
       "  .table-result-container {\n",
       "    max-height: 300px;\n",
       "    overflow: auto;\n",
       "  }\n",
       "  table, th, td {\n",
       "    border: 1px solid black;\n",
       "    border-collapse: collapse;\n",
       "  }\n",
       "  th, td {\n",
       "    padding: 5px;\n",
       "  }\n",
       "  th {\n",
       "    text-align: left;\n",
       "  }\n",
       "</style><div class='table-result-container'><table class='table-result'><thead style='background-color: white'><tr><th>ID</th><th>city</th><th>country</th></tr></thead><tbody><tr><td>1</td><td>Rewa</td><td>India</td></tr><tr><td>2</td><td>Mumbai</td><td>India</td></tr><tr><td>3</td><td>Bangalore</td><td>India</td></tr><tr><td>4</td><td>Delhi</td><td>India</td></tr><tr><td>5</td><td>Chennai</td><td>India</td></tr><tr><td>6</td><td>Kolkata</td><td>India</td></tr><tr><td>7</td><td>Mumbai</td><td>India</td></tr><tr><td>8</td><td>Bangalore</td><td>India</td></tr><tr><td>9</td><td>Delhi</td><td>India</td></tr></tbody></table></div>"
      ]
     },
     "metadata": {
      "application/vnd.databricks.v1+output": {
       "addedWidgets": {},
       "aggData": [],
       "aggError": "",
       "aggOverflow": false,
       "aggSchema": [],
       "aggSeriesLimitReached": false,
       "aggType": "",
       "arguments": {},
       "columnCustomDisplayInfos": {},
       "data": [
        [
         1,
         "Rewa",
         "India"
        ],
        [
         2,
         "Mumbai",
         "India"
        ],
        [
         3,
         "Bangalore",
         "India"
        ],
        [
         4,
         "Delhi",
         "India"
        ],
        [
         5,
         "Chennai",
         "India"
        ],
        [
         6,
         "Kolkata",
         "India"
        ],
        [
         7,
         "Mumbai",
         "India"
        ],
        [
         8,
         "Bangalore",
         "India"
        ],
        [
         9,
         "Delhi",
         "India"
        ]
       ],
       "datasetInfos": [],
       "dbfsResultPath": null,
       "isJsonSchema": true,
       "metadata": {},
       "overflow": false,
       "plotOptions": {
        "customPlotOptions": {},
        "displayType": "table",
        "pivotAggregation": null,
        "pivotColumns": null,
        "xColumns": null,
        "yColumns": null
       },
       "removedWidgets": [],
       "schema": [
        {
         "metadata": "{}",
         "name": "ID",
         "type": "\"long\""
        },
        {
         "metadata": "{}",
         "name": "city",
         "type": "\"string\""
        },
        {
         "metadata": "{}",
         "name": "country",
         "type": "\"string\""
        }
       ],
       "type": "table"
      }
     },
     "output_type": "display_data"
    }
   ],
   "source": [
    "df.select(df['ID'], df['city'], df['country']).show()\n",
    "df.select(df['ID'], df['city'], df['country']).display()\n"
   ]
  },
  {
   "cell_type": "markdown",
   "metadata": {
    "application/vnd.databricks.v1+cell": {
     "cellMetadata": {},
     "inputWidgets": {},
     "nuid": "792fb908-e6b5-43cb-99c0-44aeec94c750",
     "showTitle": false,
     "tableResultSettingsMap": {},
     "title": ""
    }
   },
   "source": [
    "Using dataframe column name"
   ]
  },
  {
   "cell_type": "code",
   "execution_count": 0,
   "metadata": {
    "application/vnd.databricks.v1+cell": {
     "cellMetadata": {
      "byteLimit": 2048000,
      "rowLimit": 10000
     },
     "inputWidgets": {},
     "nuid": "b6a1e866-edb4-4aab-97fa-30e2b2557b99",
     "showTitle": false,
     "tableResultSettingsMap": {},
     "title": ""
    }
   },
   "outputs": [
    {
     "output_type": "display_data",
     "data": {
      "text/html": [
       "<style scoped>\n",
       "  .table-result-container {\n",
       "    max-height: 300px;\n",
       "    overflow: auto;\n",
       "  }\n",
       "  table, th, td {\n",
       "    border: 1px solid black;\n",
       "    border-collapse: collapse;\n",
       "  }\n",
       "  th, td {\n",
       "    padding: 5px;\n",
       "  }\n",
       "  th {\n",
       "    text-align: left;\n",
       "  }\n",
       "</style><div class='table-result-container'><table class='table-result'><thead style='background-color: white'><tr><th>ID</th><th>city</th><th>country</th></tr></thead><tbody><tr><td>1</td><td>Rewa</td><td>India</td></tr><tr><td>2</td><td>Mumbai</td><td>India</td></tr><tr><td>3</td><td>Bangalore</td><td>India</td></tr><tr><td>4</td><td>Delhi</td><td>India</td></tr><tr><td>5</td><td>Chennai</td><td>India</td></tr><tr><td>6</td><td>Kolkata</td><td>India</td></tr><tr><td>7</td><td>Mumbai</td><td>India</td></tr><tr><td>8</td><td>Bangalore</td><td>India</td></tr><tr><td>9</td><td>Delhi</td><td>India</td></tr></tbody></table></div>"
      ]
     },
     "metadata": {
      "application/vnd.databricks.v1+output": {
       "addedWidgets": {},
       "aggData": [],
       "aggError": "",
       "aggOverflow": false,
       "aggSchema": [],
       "aggSeriesLimitReached": false,
       "aggType": "",
       "arguments": {},
       "columnCustomDisplayInfos": {},
       "data": [
        [
         1,
         "Rewa",
         "India"
        ],
        [
         2,
         "Mumbai",
         "India"
        ],
        [
         3,
         "Bangalore",
         "India"
        ],
        [
         4,
         "Delhi",
         "India"
        ],
        [
         5,
         "Chennai",
         "India"
        ],
        [
         6,
         "Kolkata",
         "India"
        ],
        [
         7,
         "Mumbai",
         "India"
        ],
        [
         8,
         "Bangalore",
         "India"
        ],
        [
         9,
         "Delhi",
         "India"
        ]
       ],
       "datasetInfos": [],
       "dbfsResultPath": null,
       "isJsonSchema": true,
       "metadata": {},
       "overflow": false,
       "plotOptions": {
        "customPlotOptions": {},
        "displayType": "table",
        "pivotAggregation": null,
        "pivotColumns": null,
        "xColumns": null,
        "yColumns": null
       },
       "removedWidgets": [],
       "schema": [
        {
         "metadata": "{}",
         "name": "ID",
         "type": "\"long\""
        },
        {
         "metadata": "{}",
         "name": "city",
         "type": "\"string\""
        },
        {
         "metadata": "{}",
         "name": "country",
         "type": "\"string\""
        }
       ],
       "type": "table"
      }
     },
     "output_type": "display_data"
    }
   ],
   "source": [
    "df.select(df.ID, df.city, df.country).display()"
   ]
  },
  {
   "cell_type": "markdown",
   "metadata": {
    "application/vnd.databricks.v1+cell": {
     "cellMetadata": {},
     "inputWidgets": {},
     "nuid": "c3aaaa0e-b0de-41e0-aff6-1fb6d84d0e63",
     "showTitle": false,
     "tableResultSettingsMap": {},
     "title": ""
    }
   },
   "source": [
    "using select * all columns\n"
   ]
  },
  {
   "cell_type": "code",
   "execution_count": 0,
   "metadata": {
    "application/vnd.databricks.v1+cell": {
     "cellMetadata": {
      "byteLimit": 2048000,
      "rowLimit": 10000
     },
     "inputWidgets": {},
     "nuid": "e6869ec5-2022-45b4-86d4-79422e59b380",
     "showTitle": false,
     "tableResultSettingsMap": {},
     "title": ""
    }
   },
   "outputs": [
    {
     "output_type": "stream",
     "name": "stdout",
     "output_type": "stream",
     "text": [
      "+---+---------+-------+\n| ID|     city|country|\n+---+---------+-------+\n|  1|     Rewa|  India|\n|  2|   Mumbai|  India|\n|  3|Bangalore|  India|\n|  4|    Delhi|  India|\n|  5|  Chennai|  India|\n|  6|  Kolkata|  India|\n|  7|   Mumbai|  India|\n|  8|Bangalore|  India|\n|  9|    Delhi|  India|\n+---+---------+-------+\n\n"
     ]
    }
   ],
   "source": [
    "df.select(*columns).show()"
   ]
  },
  {
   "cell_type": "markdown",
   "metadata": {
    "application/vnd.databricks.v1+cell": {
     "cellMetadata": {},
     "inputWidgets": {},
     "nuid": "323d2a3e-c173-4ca8-bd08-49da22c916a4",
     "showTitle": false,
     "tableResultSettingsMap": {},
     "title": ""
    }
   },
   "source": [
    "display column by using index"
   ]
  },
  {
   "cell_type": "code",
   "execution_count": 0,
   "metadata": {
    "application/vnd.databricks.v1+cell": {
     "cellMetadata": {
      "byteLimit": 2048000,
      "rowLimit": 10000
     },
     "inputWidgets": {},
     "nuid": "7157a5d1-6df7-4fae-8d22-5fc111777b05",
     "showTitle": false,
     "tableResultSettingsMap": {},
     "title": ""
    }
   },
   "outputs": [
    {
     "output_type": "display_data",
     "data": {
      "text/html": [
       "<style scoped>\n",
       "  .table-result-container {\n",
       "    max-height: 300px;\n",
       "    overflow: auto;\n",
       "  }\n",
       "  table, th, td {\n",
       "    border: 1px solid black;\n",
       "    border-collapse: collapse;\n",
       "  }\n",
       "  th, td {\n",
       "    padding: 5px;\n",
       "  }\n",
       "  th {\n",
       "    text-align: left;\n",
       "  }\n",
       "</style><div class='table-result-container'><table class='table-result'><thead style='background-color: white'><tr><th>ID</th><th>city</th></tr></thead><tbody><tr><td>1</td><td>Rewa</td></tr><tr><td>2</td><td>Mumbai</td></tr><tr><td>3</td><td>Bangalore</td></tr><tr><td>4</td><td>Delhi</td></tr><tr><td>5</td><td>Chennai</td></tr><tr><td>6</td><td>Kolkata</td></tr><tr><td>7</td><td>Mumbai</td></tr><tr><td>8</td><td>Bangalore</td></tr><tr><td>9</td><td>Delhi</td></tr></tbody></table></div>"
      ]
     },
     "metadata": {
      "application/vnd.databricks.v1+output": {
       "addedWidgets": {},
       "aggData": [],
       "aggError": "",
       "aggOverflow": false,
       "aggSchema": [],
       "aggSeriesLimitReached": false,
       "aggType": "",
       "arguments": {},
       "columnCustomDisplayInfos": {},
       "data": [
        [
         1,
         "Rewa"
        ],
        [
         2,
         "Mumbai"
        ],
        [
         3,
         "Bangalore"
        ],
        [
         4,
         "Delhi"
        ],
        [
         5,
         "Chennai"
        ],
        [
         6,
         "Kolkata"
        ],
        [
         7,
         "Mumbai"
        ],
        [
         8,
         "Bangalore"
        ],
        [
         9,
         "Delhi"
        ]
       ],
       "datasetInfos": [],
       "dbfsResultPath": null,
       "isJsonSchema": true,
       "metadata": {},
       "overflow": false,
       "plotOptions": {
        "customPlotOptions": {},
        "displayType": "table",
        "pivotAggregation": null,
        "pivotColumns": null,
        "xColumns": null,
        "yColumns": null
       },
       "removedWidgets": [],
       "schema": [
        {
         "metadata": "{}",
         "name": "ID",
         "type": "\"long\""
        },
        {
         "metadata": "{}",
         "name": "city",
         "type": "\"string\""
        }
       ],
       "type": "table"
      }
     },
     "output_type": "display_data"
    }
   ],
   "source": [
    "df.select(df.columns[:2]).display()"
   ]
  },
  {
   "cell_type": "code",
   "execution_count": 0,
   "metadata": {
    "application/vnd.databricks.v1+cell": {
     "cellMetadata": {
      "byteLimit": 2048000,
      "rowLimit": 10000
     },
     "inputWidgets": {},
     "nuid": "60c16476-2d4f-4db9-b800-19f66d92dbfd",
     "showTitle": false,
     "tableResultSettingsMap": {},
     "title": ""
    }
   },
   "outputs": [
    {
     "output_type": "display_data",
     "data": {
      "text/html": [
       "<style scoped>\n",
       "  .table-result-container {\n",
       "    max-height: 300px;\n",
       "    overflow: auto;\n",
       "  }\n",
       "  table, th, td {\n",
       "    border: 1px solid black;\n",
       "    border-collapse: collapse;\n",
       "  }\n",
       "  th, td {\n",
       "    padding: 5px;\n",
       "  }\n",
       "  th {\n",
       "    text-align: left;\n",
       "  }\n",
       "</style><div class='table-result-container'><table class='table-result'><thead style='background-color: white'><tr><th>city</th><th>country</th></tr></thead><tbody><tr><td>Rewa</td><td>India</td></tr><tr><td>Mumbai</td><td>India</td></tr><tr><td>Bangalore</td><td>India</td></tr><tr><td>Delhi</td><td>India</td></tr><tr><td>Chennai</td><td>India</td></tr><tr><td>Kolkata</td><td>India</td></tr><tr><td>Mumbai</td><td>India</td></tr><tr><td>Bangalore</td><td>India</td></tr><tr><td>Delhi</td><td>India</td></tr></tbody></table></div>"
      ]
     },
     "metadata": {
      "application/vnd.databricks.v1+output": {
       "addedWidgets": {},
       "aggData": [],
       "aggError": "",
       "aggOverflow": false,
       "aggSchema": [],
       "aggSeriesLimitReached": false,
       "aggType": "",
       "arguments": {},
       "columnCustomDisplayInfos": {},
       "data": [
        [
         "Rewa",
         "India"
        ],
        [
         "Mumbai",
         "India"
        ],
        [
         "Bangalore",
         "India"
        ],
        [
         "Delhi",
         "India"
        ],
        [
         "Chennai",
         "India"
        ],
        [
         "Kolkata",
         "India"
        ],
        [
         "Mumbai",
         "India"
        ],
        [
         "Bangalore",
         "India"
        ],
        [
         "Delhi",
         "India"
        ]
       ],
       "datasetInfos": [],
       "dbfsResultPath": null,
       "isJsonSchema": true,
       "metadata": {},
       "overflow": false,
       "plotOptions": {
        "customPlotOptions": {},
        "displayType": "table",
        "pivotAggregation": null,
        "pivotColumns": null,
        "xColumns": null,
        "yColumns": null
       },
       "removedWidgets": [],
       "schema": [
        {
         "metadata": "{}",
         "name": "city",
         "type": "\"string\""
        },
        {
         "metadata": "{}",
         "name": "country",
         "type": "\"string\""
        }
       ],
       "type": "table"
      }
     },
     "output_type": "display_data"
    }
   ],
   "source": [
    "df.select(df.columns[1:3]).display()"
   ]
  },
  {
   "cell_type": "markdown",
   "metadata": {
    "application/vnd.databricks.v1+cell": {
     "cellMetadata": {
      "byteLimit": 2048000,
      "rowLimit": 10000
     },
     "inputWidgets": {},
     "nuid": "a202ab7a-c1a6-4f06-8a77-95da11fc41e5",
     "showTitle": false,
     "tableResultSettingsMap": {},
     "title": ""
    }
   },
   "source": []
  }
 ],
 "metadata": {
  "application/vnd.databricks.v1+notebook": {
   "computePreferences": null,
   "dashboards": [],
   "environmentMetadata": {
    "base_environment": "",
    "environment_version": "1"
   },
   "language": "python",
   "notebookMetadata": {
    "pythonIndentUnit": 4
   },
   "notebookName": "DataFrame (how many way we can display the data)",
   "widgets": {}
  },
  "language_info": {
   "name": "python"
  }
 },
 "nbformat": 4,
 "nbformat_minor": 0
}